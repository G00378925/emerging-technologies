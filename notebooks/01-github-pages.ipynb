{
 "cells": [
  {
   "cell_type": "markdown",
   "metadata": {},
   "source": [
    "# GitHub Pages and Actions\n"
   ]
  },
  {
   "cell_type": "markdown",
   "metadata": {},
   "source": [
    "GitHub Pages [[0]](#about-github-pages) allows users to host static web content on a web server, this static web content can be HTML, JavaScript, CSS or any other format.\n",
    "\n",
    "A common use case is the hosting of generated documentation for a projects on GitHub, if your Java code is using javadoc [[1]](#javadoc), the emitted HTML documentation can be hosted on GitHub pages, avoiding the need for you to setup a webserver, finding hosting and having to maintain it, this is commonly referred to as a \"serverless solution\".\n",
    "\n",
    "I've also seen it being used for hosting porfolio pages and homepage fronts for open source projects."
   ]
  },
  {
   "cell_type": "markdown",
   "metadata": {
    "vscode": {
     "languageId": "plaintext"
    }
   },
   "source": [
    "***\n",
    "## What is a server?\n",
    "\n",
    "Its debatable what server actually is, it can refer to the computer itself that is responsible for running the server software, usually more powerful that a personal computer featuring more CPU cores and memory.\n",
    "\n",
    "In the context of software applications it refers to an instance of software that is infinitely polling for requests, when it recieves a **input/request** it will perform an action and then return a **output/response**. \n",
    "\n",
    "When you open a website in your browser, it sends a **request** to a remote computer know as server, what it sends back is known as a **response**, the protocol that makes this possible is known as the Hypertext transfer protocol [[2]](#http), it is built on the TCP protocol."
   ]
  },
  {
   "cell_type": "markdown",
   "metadata": {},
   "source": [
    "***\n",
    "### HTTP Request\n",
    "\n",
    "A HTTP request begins with a line containing the method, the resource path and the protocol of the HTTP version, all lines following are key/value pairs, delimited with a \"`: `\", there is a blank line seperating the header from the body, the body contains data the browser is sending to the server.\n",
    "\n",
    "**Header**\n",
    "<table align=\"left\">\n",
    "    <tr>\n",
    "        <th>Method</th>\n",
    "        <th>Resource path</th>\n",
    "        <th>Protocol version</th>\n",
    "    </tr>\n",
    "    <tr>\n",
    "        <td>POST</td>\n",
    "        <td>/login</td>\n",
    "        <td>HTTP/1.1</td>\n",
    "    </tr>\n",
    "</table>\n",
    "<!-- Jupyter bug? -->\n",
    "<br><br><br><br>\n",
    "\n",
    "**Header key/value pairs**\n",
    "<table align=\"left\">\n",
    "    <tr>\n",
    "        <th>Header Key</th>\n",
    "        <th>Header Value</th>\n",
    "    </tr>\n",
    "    <tr>\n",
    "        <td>Host</td>\n",
    "        <td>example.com</td>\n",
    "    </tr>\n",
    "    <tr>\n",
    "        <td>User-Agent</td>\n",
    "        <td>Mozilla 5.0 (Windows . . .</td>\n",
    "    </tr>\n",
    "</table>\n",
    "<br><br><br><br><br>\n",
    "\n",
    "**Body data**\n",
    "```\n",
    "username=johndoe&password=0x1337\n",
    "```"
   ]
  },
  {
   "cell_type": "markdown",
   "metadata": {},
   "source": [
    "***\n",
    "### HTTP Response\n",
    "The HTTP response begins with a line containing the HTTP version, numerical status code and the status message.\n",
    "\n",
    "<table align=\"left\">\n",
    "    <tr>\n",
    "        <th>Protocol Version</th>\n",
    "        <th>Status code</th>\n",
    "        <th>Status string</th>\n",
    "    </tr>\n",
    "    <tr>\n",
    "        <td>HTTP/1.1</td>\n",
    "        <td>200</td>\n",
    "        <td>OK</td>\n",
    "    </tr>\n",
    "</table>"
   ]
  },
  {
   "cell_type": "markdown",
   "metadata": {},
   "source": [
    "## gh-pages branch\n",
    "\n",
    "To store static content on GitHub pages you would enable GitHub page in your repository settings and put your code in a branch called **gh-pages**, this method will soon be deprecated and will require you to use GitHub actions."
   ]
  },
  {
   "cell_type": "markdown",
   "metadata": {},
   "source": [
    "## GitHub Actions\n",
    "\n",
    "In recent years, continuous integration and continuous delivery have grown in popularity, allowing developers to instantly test code, that has pushed to a repository against a suite of tests, and GitHub can return a green check mark to denote that all the tests passed, sometimes developers want their code to deployed as soon as they push to their repository.\n",
    "\n",
    "On pushing commits to a repository you can have GitHub deploy or run tests [[3]](#actions),\n",
    "these are defined in your repository at `.github/workflows`,\n",
    "the actions are defined in a language called YAML.\n",
    "\n",
    "You'll be disappointed to learn that GitHub actions is a GitHub only feature and you will not find it on GitLab or Bitbucket. \n",
    "\n",
    "Why is actions better than the legacy method above (gh-pages), having two branches with completely different content goes against the Git philosophy,\n",
    "and actions allows you to generate documentation on pushing to the repository.\n",
    "\n",
    "Git was orignally created for version control for the Linux kernel, branches were different version of other branches, there should never a time a branch as a completely different codebase.<br>"
   ]
  },
  {
   "cell_type": "markdown",
   "metadata": {},
   "source": [
    "### What is YAML?\n",
    "\n",
    "YAML is a language for serialising data allowing it to be stored and transmitted over the network, it more human readable than alternatives such as JSON and XML.\n",
    "\n",
    "Its increased readability a led it usage for storing configuration files in a lot of applications, you fill find it being used in Docker (`docker-compose.yml`), useful for displaying data that has a hierachical structure to it."
   ]
  },
  {
   "cell_type": "markdown",
   "metadata": {},
   "source": [
    "## Static vs Dynamic Content\n",
    "\n",
    "Static content on websites has a fixed state, this can be files stored on the file system and delivered to uses through a webserver software such as apache or nginx.\n",
    "\n",
    "There was at time when browsers had a much higher reliance on backend logic, less work was being done on the client side and more on the server, JavaScript allows for code execution in the browser without the backend.\n",
    "\n",
    "Why waste computational resources on server side when it can be done in the clients browser?<br>\n",
    "Backends are still necessary in the retrieving of data from a remote server.<br>\n"
   ]
  },
  {
   "cell_type": "markdown",
   "metadata": {},
   "source": [
    "## References\n",
    "[0] <a id=\"about-github-pages\"></a>https://docs.github.com/en/pages/getting-started-with-github-pages/about-github-pages<br>\n",
    "[1] <a id=\"javadoc\"></a>https://www.oracle.com/java/technologies/javase/javadoc.html<br>\n",
    "[2] <a id=\"http\"></a>https://en.wikipedia.org/wiki/Hypertext_Transfer_Protocol<br>\n",
    "[3] <a id=\"actions\"></a>https://github.com/features/actions<br>\n",
    "[4] <a id=\"githistory\"></a>https://git-scm.com/book/en/v2/Getting-Started-A-Short-History-of-Git<br>"
   ]
  }
 ],
 "metadata": {
  "kernelspec": {
   "display_name": "Python 3 (ipykernel)",
   "language": "python",
   "name": "python3"
  },
  "language_info": {
   "codemirror_mode": {
    "name": "ipython",
    "version": 3
   },
   "file_extension": ".py",
   "mimetype": "text/x-python",
   "name": "python",
   "nbconvert_exporter": "python",
   "pygments_lexer": "ipython3",
   "version": "3.9.13"
  }
 },
 "nbformat": 4,
 "nbformat_minor": 4
}
