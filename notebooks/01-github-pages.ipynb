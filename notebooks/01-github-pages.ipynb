{
  "cells": [
    {
      "cell_type": "markdown",
      "metadata": {},
      "source": [
        "# GitHub Pages and Actions\n"
      ]
    },
    {
      "cell_type": "markdown",
      "metadata": {},
      "source": [
        "GitHub Pages [[0]](#about-github-pages) allows users to host static web content on a web server,<br>\n",
        "this static web content can be HTML, JavaScript, CSS or any other format.\n",
        "\n",
        "A common use case is the hosting of generated documentation for a projects on GitHub,<br>\n",
        "if your Java code is using javadoc [[1]](#javadoc), the emitted HTML documentation can be hosted on GitHub pages,<br>\n",
        "avoiding the need for you to setup a webserver, finding hosting and having to maintain it.<br>\n",
        "\n",
        "I've also seen it being used for hosting porfolio pages and homepage fronts for open source projects."
      ]
    },
    {
      "cell_type": "markdown",
      "metadata": {
        "vscode": {
          "languageId": "plaintext"
        }
      },
      "source": [
        "## What is a server?\n",
        "\n",
        "When you open a website in your browser, it sends a **request** to a remote computer know as server, what it sends back is known as a **response**, the protocol that makes this possible is known as the Hypertext transfer protocol [[2]](#http), it is built on the TCP protocol."
      ]
    },
    {
      "cell_type": "markdown",
      "metadata": {},
      "source": [
        "### HTTP Request\n",
        "\n",
        "A HTTP request begins with a line containing the method, the resource path and the protocol of the HTTP version, all lines following are key/value pairs, delimited with a \"`: `\", there is a blank line seperating the header from the body, the body contains data the browser is sending to the server.\n",
        "\n",
        "**Header**\n",
        "\n",
        "| Method      | Resource Path | Protocol Version |\n",
        "|-------------|---------------|------------------|\n",
        "| POST        | /login        | HTTP/1.1         |\n",
        "\n",
        "**Headers key/value pairs**\n",
        "\n",
        "| Header Key                 | Header Value      |\n",
        "|---------------------|--------------------------|\n",
        "| Host                | example.com              |\n",
        "| User-Agent          | Mozilla 5.0 (Windows . . |\n",
        "\n",
        "**Body data**\n",
        "```\n",
        "username=johndoe&password=0x1337\n",
        "```"
      ]
    },
    {
      "cell_type": "markdown",
      "metadata": {},
      "source": [
        "### HTTP Response"
      ]
    },
    {
      "cell_type": "markdown",
      "metadata": {},
      "source": [
        "## gh-pages branch\n",
        "\n",
        "To store static content on GitHub pages you would enable GitHub page in your repository settings and put your code in a branch called **gh-pages**, this method will soon be deprecated and will require you to use GitHub actions."
      ]
    },
    {
      "cell_type": "markdown",
      "metadata": {},
      "source": [
        "## GitHub Actions\n",
        "\n",
        "In recent years, continuous integration and continuous delivery have grown in popularity, allowing developers to instantly test code, that has pushed to a repository against a suite of tests, and GitHub can return a green check mark to denote that all the tests passed, sometimes developers want their code to deployed as soon as they push to their repository.\n",
        "\n",
        "On pushing commits to a repository you can have GitHub deploy or run tests [[3]](#actions),\n",
        "these are defined in your repository at `.github/workflows`,\n",
        "the actions are defined in a language called YAML.\n",
        "\n",
        "Why is actions better than the legacy method above (gh-pages),<br>\n",
        "having two branches with completely different content goes against the Git philosophy,\n",
        "and actions allows you to generate documentation on pushing to the repository.\n",
        "\n",
        "Git was orignally created for version control for the Linux kernel,<br>\n",
        "branches were different version of other branches,<br>\n",
        "there should never a time a branch as a completely different codebase.<br>"
      ]
    },
    {
      "cell_type": "markdown",
      "metadata": {},
      "source": [
        "## Static vs Dynamic Content\n",
        "\n",
        "There was at time when browsers had a much higher reliance on backend logic,<br>\n",
        "less work was being done on the client side and more on the server,<br>\n",
        "JavaScript allows for code execution in the browser without the backend.<br>\n",
        "<br>\n",
        "Why waste computational resources on server side when it can be done in the clients browser?<br>\n",
        "<br>\n",
        "Backends are still necessary in the retrieving of data from a remote server.<br>\n"
      ]
    },
    {
      "cell_type": "markdown",
      "metadata": {},
      "source": [
        "## References\n",
        "[0] <a id=\"about-github-pages\"></a>https://docs.github.com/en/pages/getting-started-with-github-pages/about-github-pages<br>\n",
        "[1] <a id=\"javadoc\"></a>https://www.oracle.com/java/technologies/javase/javadoc.html<br>\n",
        "[2] <a id=\"http\"></a>https://en.wikipedia.org/wiki/Hypertext_Transfer_Protocol<br>\n",
        "[3] <a id=\"actions\"></a>https://github.com/features/actions<br>\n",
        "[4] <a id=\"githistory\"></a>https://git-scm.com/book/en/v2/Getting-Started-A-Short-History-of-Git<br>"
      ]
    }
  ],
  "metadata": {
    "kernelspec": {
      "display_name": "Python (Pyodide)",
      "language": "python",
      "name": "python"
    },
    "language_info": {
      "codemirror_mode": {
        "name": "python",
        "version": 3
      },
      "file_extension": ".py",
      "mimetype": "text/x-python",
      "name": "python",
      "nbconvert_exporter": "python",
      "pygments_lexer": "ipython3",
      "version": "3.8"
    }
  },
  "nbformat": 4,
  "nbformat_minor": 4
}
