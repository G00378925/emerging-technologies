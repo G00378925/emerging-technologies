{
  "metadata": {
    "language_info": {
      "codemirror_mode": {
        "name": "python",
        "version": 3
      },
      "file_extension": ".py",
      "mimetype": "text/x-python",
      "name": "python",
      "nbconvert_exporter": "python",
      "pygments_lexer": "ipython3",
      "version": "3.8"
    },
    "kernelspec": {
      "name": "python",
      "display_name": "Python (Pyodide)",
      "language": "python"
    }
  },
  "nbformat_minor": 4,
  "nbformat": 4,
  "cells": [
    {
      "cell_type": "markdown",
      "source": "# GitHub Pages\n",
      "metadata": {}
    },
    {
      "cell_type": "markdown",
      "source": "GitHub Pages[0] allows users to host static web content on a web server,<br>\nthis static web content can be HTML, JavaScript, CSS and images . . .\n\nA common use case is the hosting generated documentation for a project on GitHub,<br>\nif your Java code is using javadoc[1], the emitted HTML documentation can be hosted on GitHub pages,<br>\navoiding the need for you to setup a webserver, finding hosting and having to maintain it.<br>\n\nI've also seen it being used for hosting porfolio pages and homepage fronts for open source projects.",
      "metadata": {}
    },
    {
      "cell_type": "markdown",
      "source": "# gh-pages branch\n\nTo store static content on GitHub pages you would enable GitHub page on your repository and put your code in a branch called **gh-pages**, this method will soon be deprecated and will require you to use GitHub actions.",
      "metadata": {}
    },
    {
      "cell_type": "markdown",
      "source": "# GitHub Actions\n\nOn pushing commits to a repository you can have GitHub deploy or run tests [2],\nthese are defined in your repository at `.github/workflows`,\nthe actions are defined in a language called YAML.\n\nWhy is actions better than the legacy method above (gh-pages),<br>\nhaving two branches with completely different content goes against the Git philosophy,\nand actions allows you to generate documentation on pushing to the repository.",
      "metadata": {}
    },
    {
      "cell_type": "markdown",
      "source": "# Static vs Dynamic\n\nThere was at time when browsers had a much higher reliance on backend logic,<br>\nJavaScript allows for code execution in the browser without the backend.\n\n### WebAssembly\n\nWebAssembly[3] is a virtual machine that runs in the browser,<br>\nlow level languages such as C/C++ can be converted in WebAssembly using Emscripten[4].",
      "metadata": {}
    },
    {
      "cell_type": "markdown",
      "source": "# References\n[0] https://docs.github.com/en/pages/getting-started-with-github-pages/about-github-pages<br>\n[1] https://www.oracle.com/java/technologies/javase/javadoc.html<br>\n[2] https://github.com/features/actions<br>\n[3] https://webassembly.org/<br>\n[4] https://emscripten.org/",
      "metadata": {}
    }
  ]
}