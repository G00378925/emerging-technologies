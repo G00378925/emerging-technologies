{
 "cells": [
  {
   "cell_type": "markdown",
   "metadata": {},
   "source": [
    "# GitHub Pages and Actions\n",
    "***\n",
    "This notebook will discuss GitHub Pages and GitHub Actions and some prerequisite knowledge, such as what is a server and some information about the HTTP protocol.\n",
    "\n",
    "In the GitHub Pages section, I have included a guide to help you through the process of setting up GitHub Action to automatically deploy a static website to GitHub Pages when a commit is pushed to the repository."
   ]
  },
  {
   "cell_type": "markdown",
   "metadata": {
    "vscode": {
     "languageId": "plaintext"
    }
   },
   "source": [
    "***\n",
    "## 1. What is a Server?\n",
    "It's debatable what a server is; it can refer to the physical computer that runs the server software; these are typically more powerful than personal computers, featuring more CPU cores and more RAM memory. When you are referring to the software, a server is a program that is continuously listening for incoming requests; when it receives a request, it does the computations requested and returns the response to the computer that requested it.\n",
    "\n",
    "When you request a website in a web browser, the browser sends a **request** to a computer elsewhere; this computer is called a server. The server will then send back the information you requested; this is known as a **response**. This is all made possible using the HyperText Transfer Protocol (HTTP)."
   ]
  },
  {
   "cell_type": "markdown",
   "metadata": {},
   "source": [
    "***\n",
    "## 2. Static vs Dynamic Content\n",
    "Static content doesn't change, this can include files stored on a file system that are delivered to users through a web server solution such as Apache or Nginx. Examples of static files would be images, JavaScript, and CSS.\n",
    "\n",
    "In the past, browsers relied more on backend logic and less on client-side code due to personal computers being less powerful. The rise of JavaScript has allowed for more code execution to be done in the browser, reducing the need for heavy backend processing. Even though the content looks dynamic, the content being sent to the web browser is static JavaScript code; the dynamicity is done on the browser side.\n",
    "\n",
    "Using the client's browser to execute code can be more efficient than using server-side resources. Backends are still necessary for tasks such as retrieving data from a remote database. PHP allows you to return dynamically generated web pages without the need for JavaScript to pull in this data. This is considered dynamic content because dynamicity is done on the server side."
   ]
  },
  {
   "cell_type": "markdown",
   "metadata": {},
   "source": [
    "### Representational state transfer\n",
    "The Representational state transfer (REST) is a way of architecting APIs, so the only context that API needs to know in order to fufill the request is inside the request message.\n",
    "\n",
    "When an API is described as RESTful, it is somewhat compliant with the REST architecture. Static websites commonly retrieve data from other internet resources through the use of a RESTful API with the use of the `fetch` function in JavaScript. RESTful APIs can be used by a wide variety of programming languages, all they need is the ability to perform HTTP requests.\n",
    "\n",
    "An example of a non-RESTful API would be one that uses cookies in order to maintain its state; this is a form of a session token, and you are required to have this in every request so the API can keep track of the transactions between the client and the server. This is non-RESTful because all the context the API needs to fulfill is not in the request."
   ]
  },
  {
   "cell_type": "markdown",
   "metadata": {},
   "source": [
    "***\n",
    "## 3. Hypertext Transfer Protocol\n",
    "The Hypertext Transfer Protocol (HTTP) developed by Tim Berners-Lee in 1989, was originally created to transfer Hypertext documents (known as HTML today) over a TCP connection.\n",
    "\n",
    "The headers of HTTP **requests** and **responses** are in plain text format, allowing them to be read in a text editor, but the body of the message can be in plain text or in a binary format (an image would be a binary file, whereas an HTML file or JavaScript would be in plain text).\n",
    "\n",
    "The web browser can find out the size of the body using `Content-Length` in the **response** headers."
   ]
  },
  {
   "cell_type": "markdown",
   "metadata": {},
   "source": [
    "***\n",
    "### HTTP Request\n",
    "An HTTP request begins with a line containing the method, resource path, and protocol of the HTTP version. All subsequent lines contain key/value pairs, delimited with a \": \" (colon and space). There is a blank line separating the header from the body, which contains the data being sent from the browser to the server.\n",
    "\n",
    "**Header**\n",
    "<table align=\"left\">\n",
    "    <tr>\n",
    "        <th>Method</th>\n",
    "        <th>Resource path</th>\n",
    "        <th>Protocol version</th>\n",
    "    </tr>\n",
    "    <tr>\n",
    "        <td>POST</td>\n",
    "        <td>/login</td>\n",
    "        <td>HTTP/1.1</td>\n",
    "    </tr>\n",
    "</table>\n",
    "<!-- Jupyter bug? -->\n",
    "<br><br><br><br>\n",
    "\n",
    "**Header key/value pairs**\n",
    "<table align=\"left\">\n",
    "    <tr>\n",
    "        <th>Header key</th>\n",
    "        <th>Header value</th>\n",
    "    </tr>\n",
    "    <tr>\n",
    "        <td>Host</td>\n",
    "        <td>example.com</td>\n",
    "    </tr>\n",
    "    <tr>\n",
    "        <td>User-Agent</td>\n",
    "        <td>Mozilla 5.0 (Windows . . .</td>\n",
    "    </tr>\n",
    "</table>\n",
    "<br><br><br><br><br>\n",
    "\n",
    "**Body data**\n",
    "```\n",
    "username=johndoe&password=0x1337\n",
    "```"
   ]
  },
  {
   "cell_type": "markdown",
   "metadata": {},
   "source": [
    "***\n",
    "### HTTP Response\n",
    "An HTTP response also begins with a line containing the protocol of the HTTP version and a status code, followed by key/value pairs in the header, delimited with a \": \" (colon and space). The header is separated from the body by a blank line, and the body contains the data being sent from the server to the browser.\n",
    "\n",
    "#### Header\n",
    "<table align=\"left\">\n",
    "    <tr>\n",
    "        <th>Protocol Version</th>\n",
    "        <th>Status code</th>\n",
    "        <th>Status string</th>\n",
    "    </tr>\n",
    "    <tr>\n",
    "        <td>HTTP/1.1</td>\n",
    "        <td>200</td>\n",
    "        <td>OK</td>\n",
    "    </tr>\n",
    "</table>\n",
    "<!-- Jupyter bug? -->\n",
    "<br><br><br><br>\n",
    "\n",
    "#### Header key/value pairs\n",
    " <table align=\"left\">\n",
    "    <tr>\n",
    "        <th>Header key</th>\n",
    "        <th>Header value</th>\n",
    "    </tr>\n",
    "    <tr>\n",
    "        <td>Content-Type</td>\n",
    "        <td>text/html; charset=UTF-8</td>\n",
    "    </tr>\n",
    "    <tr>\n",
    "        <td>Content-Length</td>\n",
    "        <td>400</td>\n",
    "    </tr>\n",
    "</table>\n",
    "<br><br><br><br><br>\n",
    "\n",
    "**Body data**\n",
    "\n",
    "```html\n",
    "<html>\n",
    "<head>\n",
    "    <title>Welcome!</title>\n",
    "</head>\n",
    "<body>\n",
    "    <h1>You've logged in!</h1>\n",
    "    <p>You have successfully logged in.</p>\n",
    "</body>\n",
    "</html>\n",
    "```"
   ]
  },
  {
   "cell_type": "markdown",
   "metadata": {},
   "source": [
    "***\n",
    "### HTTP Request Example in Python\n",
    "JupyterLite enables you to utilize JavaScript function calls within a Python context. One of these functions is fetch, which I will demonstrate below. Fetch allows you to do HTTP requests in JavaScript.\n",
    "\n",
    "**You can learn more about these JupyterLite-specific functionalities in the `python.ipynb` in the references.**\n",
    "\n",
    "In this example, I am iterating through a list of countries and making HTTP requests to an RESTful API to obtain additional information about each country.\n",
    "\n",
    "<span style=\"color: red\">You must only run the below code in JupyterLite</span>"
   ]
  },
  {
   "cell_type": "code",
   "execution_count": 1,
   "metadata": {},
   "outputs": [
    {
     "name": "stdout",
     "output_type": "stream",
     "text": [
      "Name: Ireland, official: Republic of Ireland\n",
      "Name: United Kingdom, official: United Kingdom of Great Britain and Northern Ireland\n",
      "Name: Netherlands, official: Kingdom of the Netherlands\n",
      "Name: France, official: French Republic\n",
      "Name: Italy, official: Italian Republic\n"
     ]
    }
   ],
   "source": [
    "import json\n",
    "from js import fetch # JupyterLite fetch\n",
    "\n",
    "countries = [\"Ireland\", \"United Kingdom\", \"Netherlands\", \"France\", \"Italy\"]\n",
    "\n",
    "for country in countries: # Iterating through the list of countries\n",
    "    url = f\"https://restcountries.com/v3.1/name/{country}\"\n",
    "\n",
    "    # Here is where I use fetch, it returns a promise, so I must await its response\n",
    "    response = await fetch(url)\n",
    "    text_response = await response.text()\n",
    "    # This is a JSON object containing the info\n",
    "    json_obj = json.loads(text_response)[0]\n",
    "    \n",
    "    # Extract fields from the JSON\n",
    "    country_name_obj = json_obj[\"name\"]\n",
    "    name, official = country_name_obj[\"common\"], country_name_obj[\"official\"]\n",
    "    \n",
    "    # Print the information about the country\n",
    "    print(f\"Name: {name}, official: {official}\")"
   ]
  },
  {
   "cell_type": "markdown",
   "metadata": {},
   "source": [
    "***\n",
    "## 4. GitHub Pages\n",
    "GitHub Pages is a service that allows users to host static web content, such as HTML, JavaScript, and CSS, on a web server, that is stored in their GitHub repository. One common use for this is hosting documentation for a project that has been generated using javadoc.\n",
    "\n",
    "This can be a convenient \"serverless\" solution as it eliminates the need to set up and maintain a separate web server. GitHub Pages has also been used to host portfolio pages and homepage fronts for open-source projects."
   ]
  },
  {
   "cell_type": "markdown",
   "metadata": {},
   "source": [
    "### Enabling GitHub Pages\n",
    "To enable GitHub Pages, you must go to this URL:\n",
    "https://github.com/**your-github-username**/**name-of-repository**/settings/pages\n",
    "\n",
    "Replace the fields in the URL with your GitHub username and the name of the repository.\n",
    "\n",
    "Select \"Deploy from a branch\" in the **Source** dropdown if you're deploying a static website.\n",
    "\n",
    "Click save after selecting the branch (usually the main branch) from the **branch** dropdown box.\n",
    "\n",
    "If you're using GitHub Actions, simply select it from the **Source** dropdown. "
   ]
  },
  {
   "cell_type": "markdown",
   "metadata": {},
   "source": [
    "***\n",
    "## 5. GitHub Actions\n",
    "GitHub Actions is a feature that allows developers to automatically run tests and deploy code when commits are pushed to a repository. This is known as continuous integration and continuous delivery, and it allows developers to quickly verify that their code is working as intended. In GitHub, actions are defined in a YAML file located at `.github/workflows`.\n",
    "\n",
    "One advantage of using GitHub Actions over the legacy method of using separate branches (such as gh-pages) is that it allows you to generate documentation directly from the repository. This is in line with the principles of Git, which was originally designed for version control of the Linux kernel and assumes that branches contain different versions of the same codebase. Having two branches with completely different content goes against the principles of Git.\n",
    "\n",
    "It's important to note that GitHub Actions is a GitHub-only feature and is not available on other platforms like GitLab or Bitbucket."
   ]
  },
  {
   "cell_type": "markdown",
   "metadata": {},
   "source": [
    "### What is YAML?\n",
    "YAML (YAML Ain't Markup Language) can be used to serialize data, allowing it to be stored and transmitted over the network. Compared to other formats such as JSON and XML, YAML is much more human-readable (often, RESTful API endpoints return the whole JSON output on one line, without any formatting).\n",
    "\n",
    "One reason YAML is popular is that it is often used for storing configuration files in various applications. For example, the Docker containerization platform uses YAML files (such as `docker-compose.yml`) to store configuration information. YAML is particularly useful for displaying data that has a hierarchical structure, as seen in the example below with the aliases for the rock.\n",
    "\n",
    "In the example below, I will include some JSON and then include its YAML equivalent.\n",
    "I used this website to convert it: https://json2yaml.com/\n",
    "```json\n",
    "{\n",
    "    \"name\": \"Stone\",\n",
    "    \"colour\": \"grey\",\n",
    "    \"sharpness\": 1.0,\n",
    "    \"weight\": 45,\n",
    "    \"aliases\": [\n",
    "        \"Boulder\", \"Pebble\", \"Rock\" \n",
    "    ]\n",
    "}\n",
    "```\n",
    "```yaml\n",
    "--- YAML can have comments!\n",
    "name: Stone\n",
    "colour: grey\n",
    "sharpness: 1\n",
    "weight: 45\n",
    "aliases:\n",
    "- Boulder\n",
    "- Pebble\n",
    "- Rock\n",
    "```"
   ]
  },
  {
   "cell_type": "markdown",
   "metadata": {},
   "source": [
    "***\n",
    "## 6. Static Website Generation\n",
    "Tools exist that can convert various formats into static HTML, allowing it to be placed on a web server and viewed in a browser.\n",
    "\n",
    "An example of such a tool is Jekyll, which can convert a collection of markdown files into a blog-style website. GitHub pages support Jekyll by default, but since I am not using it in this submission, I have disabled it with the presence of the `.nojekyll` file in the root of this repository."
   ]
  },
  {
   "cell_type": "markdown",
   "metadata": {},
   "source": [
    "***\n",
    "### Markdown\n",
    "Writing HTML can be tedious at times; should you use &lt;br&gt; or &lt;/br&gt;?,\n",
    "\n",
    "Markdown is a much simpler markup alternative to HTML; below, I will show some examples of markdown and their HTML equivalents.\n",
    "\n",
    "Markdown is commonly used for README documents for GitHub repositories, but it has now found new uses, including writing blog-style websites with Jekyll.\n",
    "\n",
    "```html\n",
    "# H1 -> <h1>H1</h1>\n",
    "## H2 -> <h2>H2</h2>\n",
    "### H3 -> <h3>H3</h3>\n",
    "\n",
    "__underlined__ -> <u>underlined</u>\n",
    "*italics* -> <i>italics</i>\n",
    "**bold** -> <strong>bold</strong>\n",
    "```"
   ]
  },
  {
   "cell_type": "markdown",
   "metadata": {},
   "source": [
    "## References\n",
    "* https://github.com/ianmcloughlin/2223-S1-emerging-technologies/blob/main/notebooks/01-github-pages.ipynb<br>\n",
    "* https://github.com/jupyterlite/demo/blob/main/content/python.ipynb<br>\n",
    "* https://docs.github.com/en/pages/getting-started-with-github-pages/about-github-pages<br>\n",
    "* https://en.wikipedia.org/wiki/Hypertext_Transfer_Protocol<br>\n",
    "* https://en.wikipedia.org/wiki/Representational_state_transfer<br>\n",
    "* https://github.com/features/actions<br>\n",
    "* https://git-scm.com/book/en/v2/Getting-Started-A-Short-History-of-Git<br>\n",
    "* https://yaml.org/<br>\n",
    "* https://markdown.land/<br>"
   ]
  }
 ],
 "metadata": {
  "kernelspec": {
   "display_name": "Python 3 (ipykernel)",
   "language": "python",
   "name": "python3"
  },
  "language_info": {
   "codemirror_mode": {
    "name": "ipython",
    "version": 3
   },
   "file_extension": ".py",
   "mimetype": "text/x-python",
   "name": "python",
   "nbconvert_exporter": "python",
   "pygments_lexer": "ipython3",
   "version": "3.9.13"
  }
 },
 "nbformat": 4,
 "nbformat_minor": 4
}
