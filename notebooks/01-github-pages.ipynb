{
  "metadata": {
    "language_info": {
      "name": ""
    },
    "kernelspec": {
      "name": "",
      "display_name": ""
    }
  },
  "nbformat_minor": 4,
  "nbformat": 4,
  "cells": [
    {
      "cell_type": "markdown",
      "source": "# GitHub Pages\n",
      "metadata": {}
    },
    {
      "cell_type": "markdown",
      "source": "GitHub Pages[0] allows users to host static web content on a web server,\nthis static web content can be HTML, JavaScript, CSS and images . . .\n\nA common use case is the hosting generated documentation for a project on GitHub,\nif your Java code is using javadoc[1], the emitted HTML documentation can be hosted on GitHub pages,\navoiding the need for you to setup a webserver, finding hosting and having to maintain it.\n\nI've also seen it being used for hosting porfolio pages and homepage fronts for open source projects.",
      "metadata": {}
    },
    {
      "cell_type": "markdown",
      "source": "# GitHub Actions\n\nOn pushing commits to a repository you can have GitHub deploy or run tests [2],\nthese are defined in your repository at `.github/workflows`,\nthe actions are defined in a language called YAML",
      "metadata": {}
    },
    {
      "cell_type": "markdown",
      "source": "# Static vs Dynamic",
      "metadata": {}
    },
    {
      "cell_type": "markdown",
      "source": "# References\n[0] https://docs.github.com/en/pages/getting-started-with-github-pages/about-github-pages\n[1] https://www.oracle.com/java/technologies/javase/javadoc.html\n[2] https://github.com/features/actions",
      "metadata": {}
    },
    {
      "cell_type": "code",
      "source": "",
      "metadata": {},
      "execution_count": null,
      "outputs": []
    }
  ]
}