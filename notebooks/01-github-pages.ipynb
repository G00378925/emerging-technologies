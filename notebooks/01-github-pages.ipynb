{
  "metadata": {
    "kernelspec": {
      "name": "python",
      "display_name": "Python (Pyodide)",
      "language": "python"
    },
    "language_info": {
      "codemirror_mode": {
        "name": "python",
        "version": 3
      },
      "file_extension": ".py",
      "mimetype": "text/x-python",
      "name": "python",
      "nbconvert_exporter": "python",
      "pygments_lexer": "ipython3",
      "version": "3.8"
    }
  },
  "nbformat_minor": 4,
  "nbformat": 4,
  "cells": [
    {
      "cell_type": "markdown",
      "source": "# GitHub Pages and Actions\n***\nIn this notebook, you will be guided through the process of setting up GitHub Actions to automatically deploy a static website to GitHub Pages when a commit is pushed to the repository, and you will find an introduction to static website generators such as Jekyll and Hugo.\n\nTo fully understand the above and avoid problems, you should be well versed in concepts such as the HTTP protocol, REST, and client-server model. To ensure you have the necessary knowledge on this, it will be included in this notebook as well.",
      "metadata": {}
    },
    {
      "cell_type": "markdown",
      "source": "***\n## 1. What is a server?\n\nA server can refer to the physical computer that runs the server program, which is typically more powerful than a personal computer with more CPU cores and RAM memory. In the context of software applications, a server is an instance of running software that continuously listens for incoming requests. When it receives a request, it performs the necessary computations and returns a response to the requestor.\n\nWhen you access a website in your web browser, your browser sends a **request** to a remote computer called a server. The server responds with the desired information, which is known as a **response**. This communication is made possible by the Hypertext Transfer Protocol (HTTP)[[2]](#http), which is built on the Transmission Control Protocol (TCP).",
      "metadata": {
        "vscode": {
          "languageId": "plaintext"
        }
      }
    },
    {
      "cell_type": "markdown",
      "source": "***\n## 2. Static vs dynamic content\n\nStatic content on websites is fixed and does not change. This can include files stored on the file system that are delivered to users through a web server software like Apache or Nginx.\n\nIn the past, browsers relied more on backend logic and less on client-side code. However, the rise of JavaScript has allowed for more code execution to be done in the browser, reducing the need for heavy backend processing.\n\nUsing the client's browser to execute code can be more efficient than using server-side resources. However, backends are still necessary for tasks such as retrieving data from a remote database.",
      "metadata": {}
    },
    {
      "cell_type": "markdown",
      "source": "***\n## 3. Hypertext Transfer Protocol\n\nThe Hypertext Transfer Protocol (HTTP)[[2]](#http) developed by Tim Berners-Lee in 1989, was originally create to transfer Hypertext documents (known as HTML today) over a TCP connection.\n\n",
      "metadata": {}
    },
    {
      "cell_type": "markdown",
      "source": "***\n### HTML",
      "metadata": {}
    },
    {
      "cell_type": "markdown",
      "source": "***\n### HTTP request\n\nA HTTP request begins with a line containing the method, resource path, and protocol of the HTTP version. All subsequent lines contain key/value pairs, delimited with a \": \" (colon and space). There is a blank line separating the header from the body, which contains the data being sent from the browser to the server.\n\n**Header**\n<table align=\"left\">\n    <tr>\n        <th>Method</th>\n        <th>Resource path</th>\n        <th>Protocol version</th>\n    </tr>\n    <tr>\n        <td>POST</td>\n        <td>/login</td>\n        <td>HTTP/1.1</td>\n    </tr>\n</table>\n<!-- Jupyter bug? -->\n<br><br><br><br>\n\n**Header key/value pairs**\n<table align=\"left\">\n    <tr>\n        <th>Header Key</th>\n        <th>Header Value</th>\n    </tr>\n    <tr>\n        <td>Host</td>\n        <td>example.com</td>\n    </tr>\n    <tr>\n        <td>User-Agent</td>\n        <td>Mozilla 5.0 (Windows . . .</td>\n    </tr>\n</table>\n<br><br><br><br><br>\n\n**Body data**\n```\nusername=johndoe&password=0x1337\n```",
      "metadata": {}
    },
    {
      "cell_type": "markdown",
      "source": "***\n### HTTP response\nA HTTP response also begins with a line containing the protocol of the HTTP version and a status code, followed by key/value pairs in the header, delimited with a \": \" (colon and space). The header is separated from the body by a blank line, and the body contains the data being sent from the server to the browser.\n\n#### Header\n<table align=\"left\">\n    <tr>\n        <th>Protocol Version</th>\n        <th>Status code</th>\n        <th>Status string</th>\n    </tr>\n    <tr>\n        <td>HTTP/1.1</td>\n        <td>200</td>\n        <td>OK</td>\n    </tr>\n</table>\n<!-- Jupyter bug? -->\n<br><br><br><br>\n\n#### Header key/value pairs\n <table align=\"left\">\n    <tr>\n        <th>Header Key</th>\n        <th>Header Value</th>\n    </tr>\n    <tr>\n        <td>Content-Type</td>\n        <td>text/html; charset=UTF-8</td>\n    </tr>\n    <tr>\n        <td>Content-Length</td>\n        <td>400</td>\n    </tr>\n</table>\n<br><br><br><br><br>\n\n**Body data**\n\n&lt;html><br>\n&lt;head><br>\n&nbsp;&nbsp;&nbsp;&nbsp;&lt;title>Welcome!&lt;/title><br>\n&lt;/head><br>\n&lt;body><br>\n&nbsp;&nbsp;&nbsp;&nbsp;&lt;h1>You've logged in!&lt;/h1><br>\n&nbsp;&nbsp;&nbsp;&nbsp;&lt;p>You have successfully logged in.&lt;/p><br>\n&lt;/body><br>\n&lt;/html><br>",
      "metadata": {}
    },
    {
      "cell_type": "markdown",
      "source": "GitHub Pages is a service allows users to host static web content, such as HTML, JavaScript, and CSS, on a web server.\n\nOne common use for this is hosting documentation for a project that has been generated using javadoc.\n\nThis can be a convenient \"serverless\" solution as it eliminates the need to set up and maintain a separate web server.\n\nGitHub Pages has also been used to host portfolio pages and homepage fronts for open source projects.",
      "metadata": {}
    },
    {
      "cell_type": "markdown",
      "source": "***\n### HTTP request example in Python\n\nJupyterLite enables you to utilize JavaScript function calls within a Python context. One of these functions is fetch, which I will demonstrate below. Fetch allows you to do HTTP requests in JavaScript.\n\n**You can learn more about these JupyterLite specific functionality in the python.ipynb in the references**\n\nIn this example, I am iterating through a list of countries and making HTTP requests to an API to obtain additional information about each country.",
      "metadata": {}
    },
    {
      "cell_type": "code",
      "source": "import json\nfrom js import fetch\n\ncountries = [\"Ireland\", \"United Kingdom\", \"Netherlands\", \"France\", \"Italy\"]\n\nfor country in countries: # Iterating through the list of countries\n    url = f\"https://restcountries.com/v3.1/name/{country}\"\n\n    # Here is where I use fetch, it returns a promise, so I must await its response\n    response = await fetch(url)\n    text_response = await response.text()\n    # This is a JSON object containing the info\n    json_obj = json.loads(text_response)[0]\n\n    country_name_obj = json_obj[\"name\"]\n    name, official = country_name_obj[\"common\"], country_name_obj[\"official\"]\n    \n    # Print the information about the country\n    print(f\"Name: {name}, official: {official}\")",
      "metadata": {
        "trusted": true
      },
      "execution_count": 1,
      "outputs": [
        {
          "name": "stdout",
          "text": "Name: Ireland, official: Republic of Ireland\nName: United Kingdom, official: United Kingdom of Great Britain and Northern Ireland\nName: Netherlands, official: Kingdom of the Netherlands\nName: France, official: French Republic\nName: Italy, official: Italian Republic\n",
          "output_type": "stream"
        }
      ]
    },
    {
      "cell_type": "markdown",
      "source": "***\n## 4. GitHub Actions\n\nGitHub Actions[[3]](#actions) is a feature that allows developers to automatically run tests and deploy code when commits are pushed to a repository. This is known as continuous integration and continuous delivery, and it allows developers to quickly verify that their code is working as intended. In GitHub, actions are defined in a YAML file located at `.github/workflows`.\n\n\nOne advantage of using GitHub Actions over the legacy method of using separate branches (such as gh-pages) is that it allows you to generate documentation directly from the repository. This is in line with the principles of Git, which was originally designed for version control of the Linux kernel and assumes that branches contain different versions of the same codebase. Having two branches with completely different content goes against the principles of Git.\n\nIt's important to note that GitHub Actions is a GitHub-only feature and is not available on other platforms like GitLab or Bitbucket.",
      "metadata": {}
    },
    {
      "cell_type": "markdown",
      "source": "## gh-pages branch\n\nTo store static content on GitHub pages you would enable GitHub page in your repository settings and put your code in a branch called **gh-pages**, this method will soon be deprecated and will require you to use GitHub actions.",
      "metadata": {}
    },
    {
      "cell_type": "markdown",
      "source": "### What is YAML?\n\nYAML (Yet Another Markup Language) is a language used for serializing data, which means it can be stored and transmitted over a network. YAML is more human-readable than other formats like JSON and XML.\n\nOne reason YAML is popular is that it is often used for storing configuration files in various applications. For example, the Docker containerization platform uses YAML files (such as `docker-compose.yml`) to store configuration information. YAML is particularly useful for displaying data that has a hierarchical structure.",
      "metadata": {}
    },
    {
      "cell_type": "markdown",
      "source": "***\n## 5. Static website generation\n\nThere are various tools for converting a formats into HTML, allowing it to be put on a webserver and viewed in a browser.\n\nJekyll can convert a collection of markdown files into a blog style website, GitHub pages supports Jekyll be default, since I am not using it in this submission I have disabled it with the presence of the `.nojekyll` in the root of this repository.",
      "metadata": {}
    },
    {
      "cell_type": "markdown",
      "source": "***\n### Markdown\n\nWriting HTML can be tedious at times, should you use `<br>` or `</br>`?,\n\nMarkdown is a simple markup alternative to HTML, below I will show some examples of code written in markdown and their html equivalents.\n\nMarkdown is commonly used for README documents for GitHub repositories.\n\n#### Headers\n\n```\n# H1 -> <h1>H1</h1>\n## H2 -> <h2>H2</h2>\n### H3 -> <h3>H3</h3>\n```",
      "metadata": {}
    },
    {
      "cell_type": "markdown",
      "source": "## References\n[0] https://github.com/ianmcloughlin/2223-S1-emerging-technologies/blob/main/notebooks/01-github-pages.ipynb<br>\n[1] https://github.com/jupyterlite/demo/blob/main/content/python.ipynb<br>\n[2] https://docs.github.com/en/pages/getting-started-with-github-pages/about-github-pages<br>\n[3] https://en.wikipedia.org/wiki/Hypertext_Transfer_Protocol<br>\n[4] https://github.com/features/actions<br>\n[5] https://git-scm.com/book/en/v2/Getting-Started-A-Short-History-of-Git<br>\n[6] https://markdown.land/<br>",
      "metadata": {}
    }
  ]
}