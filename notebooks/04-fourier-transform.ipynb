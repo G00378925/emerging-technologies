{
 "cells": [
  {
   "cell_type": "markdown",
   "id": "3761ba45-8f2c-4d39-b0d6-09a58325cad5",
   "metadata": {},
   "source": [
    "# Fourier Transform\n",
    "***"
   ]
  },
  {
   "cell_type": "markdown",
   "id": "16c7ac49-0ba0-4748-89cd-02b8b4984da0",
   "metadata": {},
   "source": [
    "The Fast Fourier Transform is a fast algorithm thats able to calculate the Discrete Fourier Transform, it allows you to transform an array sequence of samples in a specified time domain, into an array of the same size with its complex number equivalents."
   ]
  },
  {
   "cell_type": "markdown",
   "id": "5d513187-df10-4e65-bcaf-64b1f7934ef5",
   "metadata": {},
   "source": [
    "$\n",
    "X(k) = \\sum_{n=0}^{N-1} x(n)\n",
    "\\cdot e^-2 \\pi j \\frac{k n}{N}\n",
    "$\n",
    "\n",
    "Equation [0]"
   ]
  },
  {
   "cell_type": "markdown",
   "id": "73db66c3-083b-4670-b224-805d16fb69ed",
   "metadata": {},
   "source": [
    "## Time vs Frequency Domain"
   ]
  },
  {
   "cell_type": "markdown",
   "id": "964ad765-9660-4abb-b941-c879badef60d",
   "metadata": {},
   "source": [
    "## Implementing the DFT"
   ]
  },
  {
   "cell_type": "code",
   "execution_count": 1,
   "id": "5cf0979e-b7ff-43b0-8c3e-e4c2cc409217",
   "metadata": {},
   "outputs": [],
   "source": [
    "import math\n",
    "\n",
    "def calculate_angle(element):\n",
    "    return 2 * math.pi\n",
    "\n",
    "def dft(input_array):\n",
    "    # The output of the DFT is the same size as input\n",
    "    output_array = [0 for i in range(len(input_array))]\n",
    "\n",
    "    # Loop for every element in the array\n",
    "    for index, element in enumerate(input_array):\n",
    "        ...\n",
    "        # output_array[index] = \n",
    "        \n",
    "    return output_array"
   ]
  },
  {
   "cell_type": "code",
   "execution_count": 2,
   "id": "756a157e-ec60-4ace-9273-918b8f006e5e",
   "metadata": {},
   "outputs": [
    {
     "name": "stdout",
     "output_type": "stream",
     "text": [
      "Fourier Output:\n",
      "array([ 5.87928724-0.j        ,  0.16224019+0.90209159j,\n",
      "       -0.70566611-0.79533395j, -0.30141243-0.1788477j ,\n",
      "        0.56556701-0.7974528j , -0.63961932-0.j        ,\n",
      "        0.56556701+0.7974528j , -0.30141243+0.1788477j ,\n",
      "       -0.70566611+0.79533395j,  0.16224019-0.90209159j])\n",
      "Inverse Fourier Output:\n",
      "array([0.46811252+0.j, 0.73464609+0.j, 0.48109623+0.j, 0.60780184+0.j,\n",
      "       0.02690816+0.j, 0.65170528+0.j, 0.66102031+0.j, 0.87665265+0.j,\n",
      "       0.98269673+0.j, 0.38864742+0.j])\n",
      "Did inverse fft work correctly?: True\n"
     ]
    }
   ],
   "source": [
    "import pprint, random\n",
    "\n",
    "import numpy as np\n",
    "import scipy.fft\n",
    "\n",
    "rand_numbers = np.array([random.random() for i in range(10)])\n",
    "fourier_output = scipy.fft.fft(rand_numbers)\n",
    "inverse_fourier_output = scipy.fft.ifft(fourier_output)\n",
    "\n",
    "print(\"Fourier Output:\")\n",
    "pprint.pprint(fourier_output)\n",
    "\n",
    "print(\"Inverse Fourier Output:\")\n",
    "pprint.pprint(inverse_fourier_output)\n",
    "\n",
    "print(\"Did inverse fft work correctly?:\", all(np.isclose(rand_numbers, inverse_fourier_output)))"
   ]
  },
  {
   "cell_type": "markdown",
   "id": "2bd18862-80f8-4e98-9d19-a005ada5a0b6",
   "metadata": {},
   "source": [
    "# References\n",
    "\n",
    "[0] http://www.themobilestudio.net/the-fourier-transform-part-7<br>\n",
    "[1] https://en.wikipedia.org/wiki/Fourier_transform<br>\n",
    "[2] https://docs.scipy.org/doc/scipy/reference/generated/scipy.fft.fft.html<br>"
   ]
  }
 ],
 "metadata": {
  "kernelspec": {
   "display_name": "Python 3 (ipykernel)",
   "language": "python",
   "name": "python3"
  },
  "language_info": {
   "codemirror_mode": {
    "name": "ipython",
    "version": 3
   },
   "file_extension": ".py",
   "mimetype": "text/x-python",
   "name": "python",
   "nbconvert_exporter": "python",
   "pygments_lexer": "ipython3",
   "version": "3.9.13"
  }
 },
 "nbformat": 4,
 "nbformat_minor": 5
}
