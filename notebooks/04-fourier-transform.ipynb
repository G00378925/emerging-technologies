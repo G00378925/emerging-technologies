{
 "cells": [
  {
   "cell_type": "markdown",
   "id": "3761ba45-8f2c-4d39-b0d6-09a58325cad5",
   "metadata": {},
   "source": [
    "# Fourier Transform\n",
    "***"
   ]
  },
  {
   "cell_type": "code",
   "execution_count": 1,
   "id": "756a157e-ec60-4ace-9273-918b8f006e5e",
   "metadata": {},
   "outputs": [
    {
     "name": "stdout",
     "output_type": "stream",
     "text": [
      "Fourier Output:\n",
      "array([ 4.43594347-0.j        , -0.67537863+0.90929334j,\n",
      "        1.02444217+0.38058246j, -0.26809871+0.61229295j,\n",
      "       -0.03091133-0.68831993j,  1.2798706 -0.j        ,\n",
      "       -0.03091133+0.68831993j, -0.26809871-0.61229295j,\n",
      "        1.02444217-0.38058246j, -0.67537863-0.90929334j])\n",
      "Inverse Fourier Output:\n",
      "array([0.58159211+0.j, 0.0763806 +0.j, 0.12890644+0.j, 0.22098791+0.j,\n",
      "       0.50072146+0.j, 0.70300892+0.j, 0.96449078+0.j, 0.07161218+0.j,\n",
      "       0.68219624+0.j, 0.50604681+0.j])\n",
      "Did inverse fft work correctly?: True\n"
     ]
    }
   ],
   "source": [
    "import pprint, random\n",
    "\n",
    "import numpy as np\n",
    "import scipy.fft\n",
    "\n",
    "rand_numbers = np.array([random.random() for i in range(10)])\n",
    "fourier_output = scipy.fft.fft(rand_numbers)\n",
    "inverse_fourier_output = scipy.fft.ifft(fourier_output)\n",
    "\n",
    "print(\"Fourier Output:\")\n",
    "pprint.pprint(fourier_output)\n",
    "\n",
    "print(\"Inverse Fourier Output:\")\n",
    "pprint.pprint(inverse_fourier_output)\n",
    "\n",
    "print(\"Did inverse fft work correctly?:\", all(np.isclose(rand_numbers, inverse_fourier_output)))"
   ]
  },
  {
   "cell_type": "markdown",
   "id": "2bd18862-80f8-4e98-9d19-a005ada5a0b6",
   "metadata": {},
   "source": [
    "# References\n",
    "\n",
    "[0] https://en.wikipedia.org/wiki/Fourier_transform<br>\n",
    "[1] https://docs.scipy.org/doc/scipy/reference/generated/scipy.fft.fft.html<br>"
   ]
  }
 ],
 "metadata": {
  "kernelspec": {
   "display_name": "Python 3 (ipykernel)",
   "language": "python",
   "name": "python3"
  },
  "language_info": {
   "codemirror_mode": {
    "name": "ipython",
    "version": 3
   },
   "file_extension": ".py",
   "mimetype": "text/x-python",
   "name": "python",
   "nbconvert_exporter": "python",
   "pygments_lexer": "ipython3",
   "version": "3.9.13"
  }
 },
 "nbformat": 4,
 "nbformat_minor": 5
}
