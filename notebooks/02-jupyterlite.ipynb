{
  "metadata": {
    "kernelspec": {
      "name": "python",
      "display_name": "Python (Pyodide)",
      "language": "python"
    },
    "language_info": {
      "codemirror_mode": {
        "name": "python",
        "version": 3
      },
      "file_extension": ".py",
      "mimetype": "text/x-python",
      "name": "python",
      "nbconvert_exporter": "python",
      "pygments_lexer": "ipython3",
      "version": "3.8"
    }
  },
  "nbformat_minor": 4,
  "nbformat": 4,
  "cells": [
    {
      "cell_type": "markdown",
      "source": "# JupyterLite",
      "metadata": {}
    },
    {
      "cell_type": "markdown",
      "source": "JupyterLab is an application that runs in the browser that can display and run Jupyter notebooks, like this one!, depends on a backend to run code (usually being Python), GitHub has had the ability to display notebooks in repositories for a while now, but doesn't have the ability to run them.\n\nOne of the biggest problems with JupyterLab is dependency on the backend to run the Python code, the Pyodide project made it possible to run CPython in the browser, by compiling it to WebAssembly using Emscripten.\n\nJupyterLite [[0]](#jupyterlite) is a version of JupyterLab that was modified to run in the browser and including Pyodide allowing you to run Python code aswell.",
      "metadata": {}
    },
    {
      "cell_type": "markdown",
      "source": "## Pyodide",
      "metadata": {}
    },
    {
      "cell_type": "code",
      "source": "import os, platform\nassert(platform.machine() == \"wasm32\")",
      "metadata": {
        "trusted": true
      },
      "execution_count": 1,
      "outputs": []
    },
    {
      "cell_type": "code",
      "source": "print(os.listdir(\"/\"))",
      "metadata": {
        "trusted": true
      },
      "execution_count": 2,
      "outputs": [
        {
          "name": "stdout",
          "text": "['tmp', 'home', 'dev', 'proc', 'lib', 'drive']\n",
          "output_type": "stream"
        }
      ]
    },
    {
      "cell_type": "markdown",
      "source": "It appears to be mimicking a UNIX file system",
      "metadata": {}
    },
    {
      "cell_type": "markdown",
      "source": "## WebAssembly\n\nWebAssembly [[1]](#webassembly) is a virtual machine that runs in the browser, low level languages such as C/C++ can be converted in WebAssembly using Emscripten [[2]](#emscripten), WebAssembly code is stored in a binary format contain instructions for the virtual machine to execute.\n\nEmscripten is a toolchain that uses a modified version of the clang compiler, rather than emitting native code it returns WebAssembly allows programs already written to be compiled for the web browser, rather than rewritting it in JavaScript.\n\nGame engines such as Unity give an option to build for the web browser, opening up games to wider audiences. \n\nUsers no longer need to install software, if it now runs in the browser, this makes a lot of software more accessible, this is invaluable in environments where the installations of software is forbidden or on operating systems where the software isn't supported such as chromebooks.",
      "metadata": {}
    },
    {
      "cell_type": "markdown",
      "source": "## References\n\n[0] <a id=\"jupyterlite\"></a>https://jupyterlite.readthedocs.io/en/latest/<br>\n[1] <a id=\"webassembly\"></a>https://webassembly.org/<br>\n[2] <a id=\"emscripten\"></a>https://emscripten.org/<br>",
      "metadata": {}
    }
  ]
}