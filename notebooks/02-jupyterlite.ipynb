{
  "metadata": {
    "kernelspec": {
      "name": "python",
      "display_name": "Python (Pyodide)",
      "language": "python"
    },
    "language_info": {
      "codemirror_mode": {
        "name": "python",
        "version": 3
      },
      "file_extension": ".py",
      "mimetype": "text/x-python",
      "name": "python",
      "nbconvert_exporter": "python",
      "pygments_lexer": "ipython3",
      "version": "3.8"
    }
  },
  "nbformat_minor": 4,
  "nbformat": 4,
  "cells": [
    {
      "cell_type": "markdown",
      "source": "# JupyterLite\n***\nJupyterLab is an application that is accessed through the browser that can display and run Jupyter notebooks, like this one!, but depends on a backend to run code (usually Python). GitHub has had the ability to display notebooks in repositories for a while now but doesn't have the ability to run the code in them.\n\nOne of the biggest problems with JupyterLab is the dependency on the backend to run the Python code. The Pyodide project made it possible to run CPython in the browser by compiling it to WebAssembly using Emscripten.\n\nJupyterLite is a version of JupyterLab that was modified to run in the browser and includes Pyodide, allowing you to run Python code as well.",
      "metadata": {}
    },
    {
      "cell_type": "markdown",
      "source": "***\n## 1. JupyterLite Demo Repository\nThe authors of JupyterLite set up a demo repository that allows you to automatically deploy JupyterLite to GitHub Pages; you should use this template as doing so will save you from writing the GitHub Action manually in YAML.\n\nOpen the link found below, press the green \"Use this template\" button and make sure you enable GitHub Pages on the repository (you can find a guide to do this in the `01-github-pages.ipynb` notebook).\n\nhttps://github.com/jupyterlite/demo\n\nNow add your notebooks to the contents directory; your instance can then be found at the URL: https://**your-github-username**.github.io/**name-of-repository**",
      "metadata": {}
    },
    {
      "cell_type": "markdown",
      "source": "### overrides.json\nJupyterLite, similar to JupyterLab on desktop, can be customized by adding preferences, you can use the `overrides.json` in the root of your JupyterLite repository to override the default settings.\n\nIn this repository, I am using the Miami Nights theme for my JupyterLite instance, you can use the JSON below to enable the theme in your own repository.\n\n```json\n{\n    \"@jupyterlab/apputils-extension:themes\": {\n        \"theme\": \"JupyterLab Miami Nights\"\n    }\n}\n```",
      "metadata": {}
    },
    {
      "cell_type": "markdown",
      "source": "***\n## 2. Pyodide\nPyodide is a version of the CPython interpreter that targets the browser; since the standard interpreter for Python is written in C, it cannot run in the browser, but using toolchains such as Emscripten, it can be compiled to WebAssembly, which can allow it to run in the browser.",
      "metadata": {}
    },
    {
      "cell_type": "code",
      "source": "import os, platform\n\n# The machine type is \"wasm32\", running this natively\n# would return an architecture such as x86_64 or arm64. \nassert(platform.machine() == \"wasm32\")",
      "metadata": {
        "trusted": true
      },
      "execution_count": 1,
      "outputs": []
    },
    {
      "cell_type": "markdown",
      "source": "Python code is typically targeted at an operating system, so Pyodide has to mimic an operating system, as you can see below, it is faking a typical UNIX file system.",
      "metadata": {}
    },
    {
      "cell_type": "code",
      "source": "print(os.listdir(\"/\"))",
      "metadata": {
        "trusted": true
      },
      "execution_count": 2,
      "outputs": [
        {
          "name": "stdout",
          "text": "['tmp', 'home', 'dev', 'proc', 'lib', 'drive']\n",
          "output_type": "stream"
        }
      ]
    },
    {
      "cell_type": "markdown",
      "source": "***\n## 3. Julia, JavaScript and P5.js\nJupyter notebooks are commonly used in data science because they allow you to integrate code and plots in the same document. When you run the notebook, the outputs are cached, so you can view the plots on a GitHub repository without having to re-run them. Jupyter supports different programming languages through language kernels; Python is commonly used because of its simple syntax and wide range of libraries for working with data.\n\n### Julia\nA popular alternative to Python is Julia, and Julia also supports Jupyter through its kernel. Unfortunately, it doesn't support JupyterLite yet, as Julia still needs to be ported to WebAssembly.\n\n### JavaScript\nSince JupyterLite runs in the browser and the browser natively supports JavaScript, it was trivial for the authors to make a kernel that supports JavaScript. Examples of its usage can be found in the `javascript.ipynb` notebook in the JupyterLite demo repository.\n\n### P5.js\nP5.js is a library that makes it easy to render graphics using JavaScript. JupyterLite supports a kernel that allows you to use P5.js in your notebooks. There may come a time when the plot you want is not available in matplotlib and seaborn, and you might instead choose to render your own plots in P5.js instead. Like JavaScript above, some examples can be found in the `p5.ipynb` notebook.",
      "metadata": {}
    },
    {
      "cell_type": "markdown",
      "source": "***\n## 4. WebAssembly\nWebAssembly is a virtual machine that runs in the browser, low level languages such as C/C++ can be converted into WebAssembly using Emscripten, WebAssembly code is stored in a binary format containing instructions for the virtual machine to execute.\n\nEmscripten is a toolchain that uses a modified version of the clang compiler, rather than emitting native code it returns WebAssembly and allows programs already written to be compiled for the web browser, rather than rewriting it in JavaScript.\n\nGame engines such as Unity give an option to build for the web browser, opening up games to wider audiences. Users no longer need to install software, if it now runs in the browser, this makes a lot of software more accessible, this is invaluable in environments where the installation of software is forbidden or on operating systems where the software isn't supported such as Chromebooks.",
      "metadata": {}
    },
    {
      "cell_type": "markdown",
      "source": "***\n## References\n<!-- Number referencing is a massive waste of time :( -->\n<!-- Pity there isn't something like BibLaTeX for Jupyter -->\n* https://github.com/jupyterlite/demo<br>\n* https://jupyterlite.readthedocs.io/en/latest/<br>\n* https://pyodide.org/en/stable/<br>\n* https://www.geeksforgeeks.org/how-to-work-with-julia-on-jupyter-notebook/<br>\n* https://discourse.julialang.org/t/jupyterlite-julia-and-webassembly/74496<br>\n* https://webassembly.org/<br>\n* https://emscripten.org/<br>",
      "metadata": {}
    }
  ]
}