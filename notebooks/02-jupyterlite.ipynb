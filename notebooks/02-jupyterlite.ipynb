{
 "cells": [
  {
   "cell_type": "markdown",
   "metadata": {},
   "source": [
    "# JupyterLite\n",
    "***"
   ]
  },
  {
   "cell_type": "markdown",
   "metadata": {},
   "source": [
    "JupyterLab is an application that runs in the browser that can display and run Jupyter notebooks, like this one!, but depends on a backend to run code (usually being Python), GitHub has had the ability to display notebooks in repositories for a while now, but doesn't have the ability to run them.\n",
    "\n",
    "One of the biggest problems with JupyterLab is dependency on the backend to run the Python code, the Pyodide project made it possible to run CPython in the browser, by compiling it to WebAssembly using Emscripten.\n",
    "\n",
    "JupyterLite[[0]](#jupyterlite) is a version of JupyterLab that was modified to run in the browser and including Pyodide allowing you to run Python code aswell."
   ]
  },
  {
   "cell_type": "markdown",
   "metadata": {},
   "source": [
    "***\n",
    "## JupyterLite demo repository\n",
    "\n",
    "Using the GitHub repository template found below, you can have your own instance of JupyterLite that will be hosted on GitHub Pages; just press the green \"Use this template\" button and make sure you enable GitHub Pages on the repository (you can find a guide in the `01-github-pages.ipynb` notebook).\n",
    "\n",
    "https://github.com/jupyterlite/demo\n",
    "\n",
    "Now add your notebooks to the contents directory; the instance can then be found at the URL: https://**your-github-username**.github.io/**name-of-repository**"
   ]
  },
  {
   "cell_type": "markdown",
   "metadata": {},
   "source": [
    "***\n",
    "## Pyodide\n",
    "\n",
    "Pyodide is a version of the CPython interpreter that targets the browser; since the standard interpreter for python is written in C, it cannot run in the browser, but using toolchains such as Emscripten, it can be compiled to WebAssembly, which can run in the browser.\n",
    "\n",
    "Python code is typically targeted at an operating system, so pyodide has to mimic an operating system, as you can see below, by faking a typical UNIX file system."
   ]
  },
  {
   "cell_type": "code",
   "execution_count": 1,
   "metadata": {},
   "outputs": [],
   "source": [
    "import os, platform\n",
    "assert(platform.machine() == \"wasm32\")"
   ]
  },
  {
   "cell_type": "code",
   "execution_count": 2,
   "metadata": {},
   "outputs": [
    {
     "name": "stdout",
     "output_type": "stream",
     "text": [
      "['tmp', 'home', 'dev', 'proc', 'lib', 'drive']\n"
     ]
    }
   ],
   "source": [
    "print(os.listdir(\"/\"))"
   ]
  },
  {
   "cell_type": "markdown",
   "metadata": {},
   "source": [
    "It appears to be mimicking a UNIX file system"
   ]
  },
  {
   "cell_type": "markdown",
   "metadata": {},
   "source": [
    "***\n",
    "## WebAssembly\n",
    "\n",
    "WebAssembly[[2]](#webassembly) is a virtual machine that runs in the browser, low level languages such as C/C++ can be converted in WebAssembly using Emscripten[[3]](#emscripten), WebAssembly code is stored in a binary format contain instructions for the virtual machine to execute.\n",
    "\n",
    "Emscripten is a toolchain that uses a modified version of the clang compiler, rather than emitting native code it returns WebAssembly allows programs already written to be compiled for the web browser, rather than rewritting it in JavaScript.\n",
    "\n",
    "Game engines such as Unity give an option to build for the web browser, opening up games to wider audiences. \n",
    "\n",
    "Users no longer need to install software, if it now runs in the browser, this makes a lot of software more accessible, this is invaluable in environments where the installations of software is forbidden or on operating systems where the software isn't supported such as chromebooks."
   ]
  },
  {
   "cell_type": "markdown",
   "metadata": {},
   "source": [
    "***\n",
    "## References\n",
    "\n",
    "[0] <a id=\"jupyterlite\"></a>https://jupyterlite.readthedocs.io/en/latest/<br>\n",
    "[1] <a id=\"pyodide\"></a>https://pyodide.org/en/stable/<br>\n",
    "[2] <a id=\"webassembly\"></a>https://webassembly.org/<br>\n",
    "[3] <a id=\"emscripten\"></a>https://emscripten.org/<br>"
   ]
  }
 ],
 "metadata": {
  "kernelspec": {
   "display_name": "Python 3 (ipykernel)",
   "language": "python",
   "name": "python3"
  },
  "language_info": {
   "codemirror_mode": {
    "name": "ipython",
    "version": 3
   },
   "file_extension": ".py",
   "mimetype": "text/x-python",
   "name": "python",
   "nbconvert_exporter": "python",
   "pygments_lexer": "ipython3",
   "version": "3.9.13"
  }
 },
 "nbformat": 4,
 "nbformat_minor": 4
}
