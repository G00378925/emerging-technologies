{
  "metadata": {
    "language_info": {
      "codemirror_mode": {
        "name": "python",
        "version": 3
      },
      "file_extension": ".py",
      "mimetype": "text/x-python",
      "name": "python",
      "nbconvert_exporter": "python",
      "pygments_lexer": "ipython3",
      "version": "3.8"
    },
    "kernelspec": {
      "name": "python",
      "display_name": "Python (Pyodide)",
      "language": "python"
    }
  },
  "nbformat_minor": 4,
  "nbformat": 4,
  "cells": [
    {
      "cell_type": "markdown",
      "source": "# JupyterLite",
      "metadata": {}
    },
    {
      "cell_type": "markdown",
      "source": "JupyterLite (Ref: ([JupyterLite](jupyterlite)) is a version of JupyterLab that was modified to run in the browser",
      "metadata": {}
    },
    {
      "cell_type": "markdown",
      "source": "## WebAssembly\n\nWebAssembly (Ref: [WebAssembly](#webassembly)) is a virtual machine that runs in the browser,<br>\nlow level languages such as C/C++ can be converted in WebAssembly using Emscripten (Ref: [Emscripten](#emscripten)).\n\nEmscripten allows programs already written to be compiled for the web browsers, rather than rewritting it in JavaScript, users no longer need to install software, if it now runs in the browser, this makes a lot of software more accessible,\nthis is invaluable in environments where the installations of software is forbidden or on operating systems where the software isn't supported. ",
      "metadata": {}
    },
    {
      "cell_type": "markdown",
      "source": "## References\n\n<a id=\"jupyterlite\"></a>https://jupyterlite.readthedocs.io/en/latest/<br>\n<a id=\"webassembly\"></a>https://webassembly.org/<br>\n<a id=\"emscripten\"></a>https://emscripten.org/<br>",
      "metadata": {}
    }
  ]
}