{
  "cells": [
    {
      "cell_type": "markdown",
      "metadata": {},
      "source": [
        "# JupyterLite"
      ]
    },
    {
      "cell_type": "markdown",
      "metadata": {},
      "source": [
        "JupyterLite [[0]](#jupyterlite) is a version of JupyterLab that was modified to run in the browser"
      ]
    },
    {
      "cell_type": "markdown",
      "metadata": {},
      "source": [
        "## WebAssembly\n",
        "\n",
        "WebAssembly [[1]](#webassembly) is a virtual machine that runs in the browser,<br>\n",
        "low level languages such as C/C++ can be converted in WebAssembly using Emscripten [[2]](#emscripten).\n",
        "\n",
        "Emscripten allows programs already written to be compiled for the web browsers, rather than rewritting it in JavaScript, users no longer need to install software, if it now runs in the browser, this makes a lot of software more accessible,\n",
        "this is invaluable in environments where the installations of software is forbidden or on operating systems where the software isn't supported. "
      ]
    },
    {
      "cell_type": "markdown",
      "metadata": {},
      "source": [
        "## References\n",
        "\n",
        "[0] <a id=\"jupyterlite\"></a>https://jupyterlite.readthedocs.io/en/latest/<br>\n",
        "[1] <a id=\"webassembly\"></a>https://webassembly.org/<br>\n",
        "[2] <a id=\"emscripten\"></a>https://emscripten.org/<br>"
      ]
    }
  ],
  "metadata": {
    "kernelspec": {
      "display_name": "Python (Pyodide)",
      "language": "python",
      "name": "python"
    },
    "language_info": {
      "codemirror_mode": {
        "name": "python",
        "version": 3
      },
      "file_extension": ".py",
      "mimetype": "text/x-python",
      "name": "python",
      "nbconvert_exporter": "python",
      "pygments_lexer": "ipython3",
      "version": "3.8"
    }
  },
  "nbformat": 4,
  "nbformat_minor": 4
}
