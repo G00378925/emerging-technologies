{
  "cells": [
    {
      "cell_type": "markdown",
      "metadata": {},
      "source": [
        "# Computation"
      ]
    },
    {
      "cell_type": "markdown",
      "metadata": {},
      "source": [
        "Computation is a sub-field of computer science that explores types of problems where solution can be created using Computers [[0]](#toa-wikipedia), commonly when a computer comes to mind, its is though of as a physical machine, but it can be anything that can do computation, these were abstract machines before the dawn of modern computing.\n",
        "\n",
        "A computer is something that can do computations automatically, the theory of automation is called automata."
      ]
    },
    {
      "cell_type": "markdown",
      "metadata": {},
      "source": [
        "# Turing Machine"
      ]
    },
    {
      "cell_type": "code",
      "execution_count": null,
      "metadata": {
        "vscode": {
          "languageId": "plaintext"
        }
      },
      "outputs": [],
      "source": [
        "def contain_all_zero(tape, debug_messages=False):\n",
        "    # State table.\n",
        "    table = {\n",
        "        ('X', '_'): ['_', 'R', 'T'],\n",
        "        ('X', '0'): ['0', 'R', 'X'],\n",
        "        ('X', '1'): ['1', 'R', 'Y'],\n",
        "        ('Y', '_'): ['_', 'R', 'F'],\n",
        "        ('Y', '0'): ['0', 'R', 'Y'],\n",
        "        ('Y', '1'): ['1', 'R', 'Y'],\n",
        "    }\n",
        "\n",
        "    # Position on tape.\n",
        "    pos = 0\n",
        "    # Initial state is first in table.\n",
        "    state = 'X'\n",
        "\n",
        "    # Keep going while we are not in a halting state.\n",
        "    while state not in ['T', 'F']:\n",
        "        # Print the current status.\n",
        "        if debug_messages:\n",
        "            print(''.join(tape[:pos]) + state + ''.join(tape[pos:]))\n",
        "        # Get the row of the table.\n",
        "        row = table[(state, tape[pos])]\n",
        "        # Overwrite the symbol.\n",
        "        tape[pos] = row[0]\n",
        "        # Move left or right.\n",
        "        if row[1] == 'R':\n",
        "            # Put blanks on tape as necessary.\n",
        "            if pos == len(tape) - 1:\n",
        "                tape += ['_']\n",
        "            # Increase position.\n",
        "            pos += 1\n",
        "        else:\n",
        "            # Put blanks on tape as necessary.\n",
        "            if pos == 0:\n",
        "                tape = ['_'] + tape\n",
        "                # The position on the tape has to move with it.\n",
        "                pos += 1\n",
        "            # Decrease position.\n",
        "            pos -= 1\n",
        "        # Update the state.\n",
        "        state = row[2]\n",
        "\n",
        "    # Print the current status.\n",
        "    if debug_messages:\n",
        "        print(''.join(tape[:pos]) + state + ''.join(tape[pos:]))\n",
        "\n",
        "    return state == 'T'"
      ]
    },
    {
      "cell_type": "code",
      "execution_count": null,
      "metadata": {
        "vscode": {
          "languageId": "plaintext"
        }
      },
      "outputs": [],
      "source": [
        "# Tape input.\n",
        "tape = list('0101111')\n",
        "contain_all_zero(tape, True)\n",
        "\n",
        "test_cases = [\n",
        "    (list(\"0101111\"), False),\n",
        "    (list(\"1111111\"), False),\n",
        "    (list(\"1101110\"), False),\n",
        "    (list(\"0000000\"), True)\n",
        "]\n",
        "\n",
        "test_pass_count = 0\n",
        "for test in test_cases:\n",
        "    print(contain_all_zero(test[0]))\n",
        "    if contain_all_zero(test[0]) == test[1]:\n",
        "        test_pass_count += 1\n",
        "\n",
        "if test_pass_count == len(test_cases):\n",
        "    print(\"All tests pass\")"
      ]
    },
    {
      "cell_type": "markdown",
      "metadata": {},
      "source": [
        "The code above is derived from [[2]](#03-computation) Ian McLoughlins, 03-computation.ipynb notebook, I have turned it into a function to allow for reuse, and added some test cases, it currently returns True if a input contains all zeros, else returns True."
      ]
    },
    {
      "cell_type": "markdown",
      "metadata": {},
      "source": [
        "# References\n",
        "[0] <a id=\"toa-wikipedia\"></a>https://en.wikipedia.org/wiki/Theory_of_computation<br>\n",
        "[1] https://www.youtube.com/watch?v=0D7yInuKvKs<br>\n",
        "[2] <a id=\"03-computation\"></a>https://github.com/ianmcloughlin/2223-S1-emerging-technologies/blob/main/notebooks/03-computation.ipynb<br>"
      ]
    }
  ],
  "metadata": {
    "kernelspec": {
      "display_name": "Python (Pyodide)",
      "language": "python",
      "name": "python"
    },
    "language_info": {
      "codemirror_mode": {
        "name": "python",
        "version": 3
      },
      "file_extension": ".py",
      "mimetype": "text/x-python",
      "name": "python",
      "nbconvert_exporter": "python",
      "pygments_lexer": "ipython3",
      "version": "3.8"
    }
  },
  "nbformat": 4,
  "nbformat_minor": 4
}
