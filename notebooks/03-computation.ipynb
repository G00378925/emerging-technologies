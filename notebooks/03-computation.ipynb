{
 "cells": [
  {
   "cell_type": "markdown",
   "metadata": {},
   "source": [
    "# Computation\n",
    "***"
   ]
  },
  {
   "cell_type": "markdown",
   "metadata": {},
   "source": [
    "Computation is a branch of computer science that explores types of problems where solution can be created using Computers [[1]](#toa-wikipedia), commonly when a computer comes to mind, its is though of as a physical machine, but it can be anything that can do computation, these were abstract machines before the dawn of modern computing.\n",
    "\n",
    "A computer is something that can do computations automatically, the theory of automation is called automata."
   ]
  },
  {
   "cell_type": "markdown",
   "metadata": {},
   "source": [
    "***\n",
    "## 1. Growth Rate and Notation\n",
    "\n",
    "It is important to understand the difference between linear and polynomial growth when discussing the complexity of algorithms. Quantum computers are able to handle more complex problems with greater ease.\n",
    "\n",
    "Growth rate notations are a way to measure the complexity of an algorithm by comparing the input size to the resources needed to compute it. The Big O notation is the most commonly used, as it represents the worst-case scenario and is useful for determining the efficiency of an algorithm.\n",
    "\n",
    "The Big O (Big Oh) function represents an upper bound on the function in question, meaning that if you pass an input $n$ to the function, the Big O function output must be more than or equal to the output of the function function in question.\n",
    "\n",
    "The Big Omega (Big $\\Omega$) function represents a lower bound on the original function, meaning that if you pass an input $n$ to the function, the Big Omega function output must be less than or equal to the output of the function in question.\n",
    "\n",
    "The Big Theta (Big $\\Theta$) function represents a tight bound, meaning the worst case scenario is also the best case, so if you pass $n$ to the Big Theta function, the output must be equal to the output of the function in question."
   ]
  },
  {
   "cell_type": "markdown",
   "metadata": {},
   "source": [
    "***\n",
    "### Exercise 1\n",
    "Describe and plot five examples of pairs of functions $f$ and $g$ such that $f$ is $O(g)$."
   ]
  },
  {
   "cell_type": "markdown",
   "metadata": {},
   "source": [
    "Describe the pairs of functions here"
   ]
  },
  {
   "cell_type": "code",
   "execution_count": null,
   "metadata": {},
   "outputs": [],
   "source": [
    "import math\n",
    "\n",
    "import matplotlib.pyplot as plt\n",
    "import numpy as np\n",
    "\n",
    "def factorial(n_array):\n",
    "    \"\"\" Calculates the factorial for each value in the n_array \"\"\"\n",
    "    n_array = n_array.copy()\n",
    "    for i in range(len(n_array)):\n",
    "        n_array[i] = math.factorial(int(n_array[i]))\n",
    "    return n_array\n",
    "\n",
    "def log(n_array):\n",
    "    \"\"\" Calculates the logarithm for each value in the n_array \"\"\"\n",
    "    n_array = n_array.copy()\n",
    "    np.log(n_array)\n",
    "    return n_array"
   ]
  },
  {
   "cell_type": "code",
   "execution_count": null,
   "metadata": {
    "tags": []
   },
   "outputs": [],
   "source": [
    "func_pair_list = [\n",
    "    {\n",
    "        \"func_f\": lambda n: n, \"func_g\": lambda n: n / 2,\n",
    "        \"func_f_label\": r\"$f: n$\",\"func_g_label\": r\"$g: \\frac{n}{2}$\",\n",
    "        \"constant_c\": 1\n",
    "    },\n",
    "    {\n",
    "        \"func_f\": lambda n: n ** 2, \"func_g\": lambda n: log(n),\n",
    "        \"func_f_label\": \"$f: n^2$\", \"func_g_label\": \"$g: log(n)$\",\n",
    "        \"constant_c\": 1\n",
    "    },\n",
    "    {\n",
    "        \"func_f\": lambda n: n ** 2, \"func_g\": lambda n: n,\n",
    "        \"func_f_label\": \"$f: n^2$\", \"func_g_label\": \"$g: n$\",\n",
    "        \"constant_c\": 1\n",
    "    },\n",
    "    {\n",
    "        \"func_f\": lambda n: n ** 3, \"func_g\": lambda n: n ** 2,\n",
    "        \"func_f_label\": \"$f: n^3$\", \"func_g_label\": \"$g: n^2$\",\n",
    "        \"constant_c\": 1\n",
    "    },\n",
    "    {\n",
    "        \"func_f\": lambda n: factorial(n), \"func_g\": lambda n: n ** 2,\n",
    "        \"func_f_label\": \"$f: n!$\", \"func_g_label\": \"$g: n^9$\",\n",
    "        \"constant_c\": 1\n",
    "    }\n",
    "]\n",
    "\n",
    "for plot_i in range(len(func_pair_list)):\n",
    "    fig, ax = plt.subplots(figsize=(8, 3))\n",
    "    \n",
    "    n = np.linspace(1, 100, 100)\n",
    "    \n",
    "    func_f, func_g = func_pair_list[plot_i][\"func_f\"], func_pair_list[plot_i][\"func_g\"]\n",
    "    func_f_label = func_pair_list[plot_i][\"func_f_label\"]\n",
    "    func_g_label = func_pair_list[plot_i][\"func_g_label\"]\n",
    "    constant_c = func_pair_list[plot_i][\"constant_c\"]\n",
    "\n",
    "    ax.plot(n, func_f(n), label=func_f_label)\n",
    "    ax.plot(n, func_g(n) * constant_c, label=func_g_label)\n",
    "    ax.set_xlabel(\"Constant/(C): \" + str(constant_c))\n",
    "    \n",
    "    ax.legend()\n",
    "    plt.show()"
   ]
  },
  {
   "cell_type": "markdown",
   "metadata": {},
   "source": [
    "These are valid Big O for each function but no very useful because they are tightly bound"
   ]
  },
  {
   "cell_type": "markdown",
   "metadata": {},
   "source": [
    "***\n",
    "## 2. Turing Machine\n",
    "\n",
    "The turing machine is model of computation introduced by Alan Turing that describes an abstract machine.\n",
    "\n",
    "The python code below is derived from [[0]](#03-computation) Ian McLoughlins, 03-computation.ipynb notebook, it implements a Turing machine.\n",
    "\n",
    "I have turned it into a function to allow for reuse, and added some test cases, it currently returns **True** if a input contains all zeros, else returns **False**."
   ]
  },
  {
   "cell_type": "code",
   "execution_count": null,
   "metadata": {
    "vscode": {
     "languageId": "plaintext"
    }
   },
   "outputs": [],
   "source": [
    "def run_turing_machine(tape, initial_state, table, debug_messages=False):\n",
    "    pos = 0 # Position on tape.\n",
    "    state = initial_state # Initial state is first in table.\n",
    "\n",
    "    # Keep going while we are not in a halting state.\n",
    "    while state not in ['T', 'F']:\n",
    "        # Print the current status.\n",
    "        if debug_messages == True:\n",
    "            print(''.join(tape[:pos]) + state + ''.join(tape[pos:]))\n",
    "        # Get the row of the table.\n",
    "        row = table[(state, tape[pos])]\n",
    "        # Overwrite the symbol.\n",
    "        tape[pos] = row[0]\n",
    "        # Move left or right.\n",
    "        if row[1] == 'R':\n",
    "            # Put blanks on tape as necessary.\n",
    "            if pos == len(tape) - 1:\n",
    "                tape += ['_']\n",
    "            # Increase position.\n",
    "            pos += 1\n",
    "        else:\n",
    "            # Put blanks on tape as necessary.\n",
    "            if pos == 0:\n",
    "                tape = ['_'] + tape\n",
    "                # The position on the tape has to move with it.\n",
    "                pos += 1\n",
    "            # Decrease position.\n",
    "            pos -= 1\n",
    "        # Update the state.\n",
    "        state = row[2]\n",
    "\n",
    "    # Print the current status.\n",
    "    if debug_messages == True:\n",
    "        print(''.join(tape[:pos]) + state + ''.join(tape[pos:]))\n",
    "        \n",
    "    return tape, state"
   ]
  },
  {
   "cell_type": "markdown",
   "metadata": {},
   "source": [
    "### Exercise 2\n",
    "Check if input contains all zeros"
   ]
  },
  {
   "cell_type": "code",
   "execution_count": null,
   "metadata": {},
   "outputs": [],
   "source": [
    "def contain_all_zero(tape):\n",
    "    # State table.\n",
    "    state_table = {\n",
    "        ('X', '_'): ['_', 'R', 'T'],\n",
    "        ('X', '0'): ['0', 'R', 'X'],\n",
    "        ('X', '1'): ['1', 'R', 'Y'],\n",
    "        ('Y', '_'): ['_', 'R', 'F'],\n",
    "        ('Y', '0'): ['0', 'R', 'Y'],\n",
    "        ('Y', '1'): ['1', 'R', 'Y'],\n",
    "    }\n",
    "\n",
    "    return run_turing_machine(tape, 'X', state_table, False)[1] == 'T'"
   ]
  },
  {
   "cell_type": "code",
   "execution_count": null,
   "metadata": {
    "vscode": {
     "languageId": "plaintext"
    }
   },
   "outputs": [],
   "source": [
    "# Tape input.\n",
    "tape = list('0101111')\n",
    "contain_all_zero(tape)\n",
    "\n",
    "test_cases = [\n",
    "    (list(\"0101111\"), False),\n",
    "    (list(\"1111111\"), False),\n",
    "    (list(\"1101110\"), False),\n",
    "    (list(\"0000000\"), True)\n",
    "]\n",
    "\n",
    "print(\"Contain all zeros\")\n",
    "for test in test_cases:\n",
    "    print(''.join(test[0]), contain_all_zero(test[0]))\n",
    "\n",
    "all_tests_pass = all([contain_all_zero(test[0]) == test[1] for test in test_cases])\n",
    "if all_tests_pass: print(\"All tests pass\")"
   ]
  },
  {
   "cell_type": "markdown",
   "metadata": {},
   "source": [
    "### Unary addition"
   ]
  },
  {
   "cell_type": "code",
   "execution_count": null,
   "metadata": {},
   "outputs": [],
   "source": [
    "def addition(x, y, debug_messages=False):\n",
    "    tape = (\"1\" * x) + \"+\" + (\"1\" * y)\n",
    "    \n",
    "    state_table = {\n",
    "        ('X', '1'): ['=', 'R', 'Y'],\n",
    "        ('Y', '1'): ['1', 'R', 'Y'],\n",
    "        ('Y', '+'): ['1', 'R', 'Y'],\n",
    "        ('Y', '_'): ['_', 'R', 'F']\n",
    "    }\n",
    "    \n",
    "    output = run_turing_machine(list(tape), 'X', state_table, False)[0]\n",
    "    output = ''.join(output)[1:-2]\n",
    "    return len(output)"
   ]
  },
  {
   "cell_type": "code",
   "execution_count": null,
   "metadata": {},
   "outputs": [],
   "source": [
    "import random\n",
    "\n",
    "print(\"addition(100, 99) = \", addition(100, 99))\n",
    "\n",
    "all_tests_pass = True\n",
    "for i in range(10):\n",
    "    i = random.randint(0, 1000)\n",
    "    j = random.randint(0, 1000)\n",
    "    \n",
    "    if addition(i, j) != (i + j):\n",
    "        all_tests_pass = False\n",
    "if all_tests_pass: print(\"All tests pass\")"
   ]
  },
  {
   "cell_type": "markdown",
   "metadata": {},
   "source": [
    "***\n",
    "## 3. Bit Twiddling"
   ]
  },
  {
   "cell_type": "markdown",
   "metadata": {},
   "source": [
    "Memory on computers is indexed in terms of bytes and are highly optimised for this, processors are likely using lookup tables to speed up computations because of this, dealing with bit is expensive because of this"
   ]
  },
  {
   "cell_type": "code",
   "execution_count": null,
   "metadata": {},
   "outputs": [],
   "source": [
    "def to_upper(s):\n",
    "    # Using a bit mask you can convert any ASCII char to its upper case version\n",
    "    # This is possible because in ASCII the upper case equivilent\n",
    "    # Is only different by one bit\n",
    "    return ''.join([chr(ord(ch) & 0b1011111) for ch in s])\n",
    "\n",
    "def to_lower(s):\n",
    "    # Doing the same as above, but adding the bit that\n",
    "    # differentiates lower from uppercase (1 << 5)\n",
    "    return ''.join([chr(ord(ch) | (ord('a') - ord('A'))) for ch in s])\n",
    "\n",
    "def multiply_by_two(x):\n",
    "    # Since computers store data in bits\n",
    "    # Shifting to the left will move each bit power to the next number\n",
    "    # And multiply it by two\n",
    "    return x << 1\n",
    "\n",
    "print(to_upper(\"Hello\"))\n",
    "print(to_lower(\"HELlo\"))\n",
    "print(\"multiply_by_two(100) = \", multiply_by_two(100))"
   ]
  },
  {
   "cell_type": "markdown",
   "metadata": {},
   "source": [
    "***\n",
    "## 4. Complex Numbers\n",
    "\n",
    "Understanding complex numbers is an important prerequisite before going into the next two topics, which are the Fourier transform and quantum computing, so I have included it in this notebook.\n",
    "\n",
    "Complex numbers are two-dimensional, meaning there are two parts: a real and an imaginary.\n",
    "The name \"imaginary\" can be misleading, as it is just as important as the real part.\n",
    "\n",
    "In mathematics, the $\\sqrt{-1}$ is not defined, which makes it difficult to work with.\n",
    "To overcome this problem, complex numbers were proposed, which allows $\\sqrt{-1}$ to be represented as $i$, allowing you to continue with your calculations, even with this problematic number.\n",
    "\n",
    "The $i$ can be reverted back to $-1$ if your square it ($i^2$), by the end of your calculation, you may no longer have any complex numbers present."
   ]
  },
  {
   "cell_type": "markdown",
   "metadata": {},
   "source": [
    "### Complex Number Arithemtic\n",
    "\n",
    "This is an example of how to represent and manipulate complex numbers in Python without the built-in complex type.\n",
    "\n",
    "But this is not needed at all, because Python natively supports complex numbers, unlike JavaScript, which does not have it built-in and requires you to implement it yourself or use a library."
   ]
  },
  {
   "cell_type": "code",
   "execution_count": null,
   "metadata": {},
   "outputs": [],
   "source": [
    "def add_complex_nums(x, y):\n",
    "    \"\"\" Add complex numbers x and y \"\"\"\n",
    "    return tuple([(x[i] + y[i]) for i in range(len(x))])\n",
    "\n",
    "def mul_complex_nums(x, y):\n",
    "    \"\"\" Multiply complex numbers x and y\n",
    "    using the complex number multiplication formulae \"\"\"\n",
    "    a1, b1 = x\n",
    "    a2, b2 = y\n",
    "    return (a1 * a2 - b1 * b2, a1 * b2 + b1 * a2)"
   ]
  },
  {
   "cell_type": "markdown",
   "metadata": {},
   "source": [
    "In this example, the complex numbers are represented as tuples, with the real part at index 0 and the imaginary part at index 1."
   ]
  },
  {
   "cell_type": "code",
   "execution_count": null,
   "metadata": {},
   "outputs": [],
   "source": [
    "complex_num1, complex_num2 = (3, 5), (-2, 7)\n",
    "\n",
    "sum_of_complex_nums = add_complex_nums(complex_num1, complex_num2)\n",
    "print(f\"The sum of the two numbers is: {sum_of_complex_nums}\")\n",
    "\n",
    "product_of_complex_nums = mul_complex_nums(complex_num1, complex_num2)\n",
    "print(f\"The product of the two numbers is: {product_of_complex_nums}\")"
   ]
  },
  {
   "cell_type": "markdown",
   "metadata": {},
   "source": [
    "#### Making a Complex Datatype"
   ]
  },
  {
   "cell_type": "code",
   "execution_count": null,
   "metadata": {},
   "outputs": [],
   "source": [
    "# In python complex numbers are abstracted into a class\n",
    "# There is methods overriding the arithmetic operations\n",
    "class Complex:\n",
    "    def __init__(self, a, b):\n",
    "        \"\"\" Initialise the Complex number object with\n",
    "        a real part A, and imaginary B\"\"\"\n",
    "        self.a, self.b = a, b\n",
    "        \n",
    "    def __add__(self, other):\n",
    "        return Complex(self.a + other.a, self.b + other.b)\n",
    "    \n",
    "    def __mul__(self, other):\n",
    "        return Complex(self.a * other.a - self.b * other.b,\n",
    "                self.a * other.b + self.b * other.a)\n",
    "    \n",
    "    def __str__(self):\n",
    "        return f\"Complex({self.a}, {self.b})\"\n",
    "    \n",
    "print(f\"Complex(3, 5j) * Complex(-2, 7j): {Complex(3, 5) * Complex(-2, 7)}\")\n",
    "print(f\"(3 + 5j) * (-2 + 7j): {(3 + 5j) * (-2 + 7j)}\")"
   ]
  },
  {
   "cell_type": "markdown",
   "metadata": {},
   "source": [
    "# References\n",
    "[0] <a id=\"03-computation\"></a>https://github.com/ianmcloughlin/2223-S1-emerging-technologies/blob/main/notebooks/03-computation.ipynb<br>\n",
    "[1] <a id=\"toa-wikipedia\"></a>https://en.wikipedia.org/wiki/Theory_of_computation<br>\n",
    "[2] <a id=\"notations\"></a>https://www.geeksforgeeks.org/difference-between-big-oh-big-omega-and-big-theta/<br>\n",
    "[3] https://www.youtube.com/watch?v=0D7yInuKvKs<br>\n",
    "[4] https://introcs.cs.princeton.edu/java/52turing<br>\n",
    "[5] https://en.wikipedia.org/wiki/Turing_machine"
   ]
  }
 ],
 "metadata": {
  "kernelspec": {
   "display_name": "Python 3 (ipykernel)",
   "language": "python",
   "name": "python3"
  },
  "language_info": {
   "codemirror_mode": {
    "name": "ipython",
    "version": 3
   },
   "file_extension": ".py",
   "mimetype": "text/x-python",
   "name": "python",
   "nbconvert_exporter": "python",
   "pygments_lexer": "ipython3",
   "version": "3.9.13"
  }
 },
 "nbformat": 4,
 "nbformat_minor": 4
}
