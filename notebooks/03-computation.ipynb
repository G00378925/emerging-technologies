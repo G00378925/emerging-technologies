{
  "metadata": {
    "language_info": {
      "codemirror_mode": {
        "name": "python",
        "version": 3
      },
      "file_extension": ".py",
      "mimetype": "text/x-python",
      "name": "python",
      "nbconvert_exporter": "python",
      "pygments_lexer": "ipython3",
      "version": "3.8"
    },
    "kernelspec": {
      "name": "python",
      "display_name": "Python (Pyodide)",
      "language": "python"
    }
  },
  "nbformat_minor": 4,
  "nbformat": 4,
  "cells": [
    {
      "cell_type": "markdown",
      "source": "# Computation",
      "metadata": {}
    },
    {
      "cell_type": "markdown",
      "source": "Computation is a sub-field of computer science that explores types of problems where solution can be created using Computers [0], commonly when a computer comes to mind, its is though of as a physical machine, but it can be anything that can do computation, these were abstract machines before the dawn of modern computing.\n\nA computer is something that can do computations automatically, the theory of automation is called automata.",
      "metadata": {}
    },
    {
      "cell_type": "markdown",
      "source": "# References\n[0] https://en.wikipedia.org/wiki/Theory_of_computation\n[1] https://www.youtube.com/watch?v=0D7yInuKvKs",
      "metadata": {}
    }
  ]
}