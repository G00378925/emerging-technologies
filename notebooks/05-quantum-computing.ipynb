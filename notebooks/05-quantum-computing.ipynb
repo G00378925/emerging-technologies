{
 "cells": [
  {
   "cell_type": "markdown",
   "id": "4d0909c5-adc9-4b3b-b596-60b6f20fca1d",
   "metadata": {},
   "source": [
    "# Quantum Computing"
   ]
  },
  {
   "cell_type": "markdown",
   "id": "aac8fdf9-bfdb-4f58-ae0d-0f73a1fecb99",
   "metadata": {},
   "source": [
    "Quantum computing is an application of quantum mechanics that uses quantum superposition and entanglement to perform computations on data.\n",
    "\n",
    "Certain types of problems can be solved more quickly than in traditional computers that use transistors and electrons.\n",
    "\n",
    "While classical computers store data in bits, either 1 or 0, represented by on or off, quantum computers use qubits, which can be 1 or 0, or a hybrid of both known as the \"superposition.\"\n",
    "\n",
    "Unlike classical computers, qubits can be entangled, influencing each other's state, and can be entangled over large distances; this can reduce the complexity of certain problem types, making quantum computers faster than classical computers."
   ]
  },
  {
   "cell_type": "markdown",
   "id": "f58d00ea-7d05-4724-9468-f340c711a684",
   "metadata": {},
   "source": [
    "***\n",
    "# Qiskit"
   ]
  },
  {
   "cell_type": "markdown",
   "id": "5cac4c50-9ddb-4717-a6be-b1c6f2a2990d",
   "metadata": {},
   "source": [
    "In this notebook, I will be using Qiskit, a library for Python created by IBM, to aid in the creation of quantum circuits. Alternatives do exist; Cirq is similar in functionality and was created by Google."
   ]
  },
  {
   "cell_type": "code",
   "execution_count": 2,
   "id": "62bb98ce-5da8-4c2e-8616-e04d9accd932",
   "metadata": {},
   "outputs": [],
   "source": [
    "try:\n",
    "    # Try and import qiskit\n",
    "    import qiskit\n",
    "except ImportError:\n",
    "    # If it doesn't import, install qiskit using pip\n",
    "    !pip install qiskit"
   ]
  },
  {
   "cell_type": "markdown",
   "id": "ebc5bd4a-89fe-4571-9ebf-9b7238790c32",
   "metadata": {},
   "source": [
    "***\n",
    "# Qubit\n",
    "\n",
    "A qubit short for quantum bit, analogue to a bit in classical computers,<br>\n",
    "the fundamental medium for how information is transmitted in the quantum world.\n",
    "\n",
    "When the polarisation is absolute its either 0 or 1.\n",
    "\n",
    "$|0\\rangle = \\begin{bmatrix} 1 \\\\ 0 \\end{bmatrix}$\n",
    "$|1\\rangle = \\begin{bmatrix} 0 \\\\ 1 \\end{bmatrix}$"
   ]
  },
  {
   "cell_type": "markdown",
   "id": "36cd364b-9545-4461-97b1-baf9bea525c9",
   "metadata": {},
   "source": [
    "## Superposition"
   ]
  },
  {
   "cell_type": "markdown",
   "id": "26f2a322-812a-4fa7-b1ac-a1f91e59cf5e",
   "metadata": {},
   "source": [
    "***\n",
    "# Quantum logic gates\n",
    "\n",
    "Similar to logic gates in classical computers, quantum logic gates are used to manipulate the state of the qubits.\n",
    "\n",
    "Unlike classical computers, all quantum logic gates perform **unitary operations**"
   ]
  },
  {
   "cell_type": "markdown",
   "id": "41b321ce-af82-44df-9049-dbadd9451b91",
   "metadata": {},
   "source": [
    "## Pauli X gate / NOT gate\n",
    "\n",
    "The Pauli X gate also commonly known as the NOT gate,\n",
    "performs a NOT operation, flipping the state of the qubit\n",
    "\n",
    "\n",
    "$|0\\rangle => |1\\rangle$ and $|1\\rangle => |0\\rangle$\n",
    "\n",
    "The operation can be represented by the following matrix\n",
    "\n",
    "\n",
    "$\n",
    "X =\n",
    "\\begin{bmatrix} 0 & 1 \\\\ 1 & 0 \\end{bmatrix}\n",
    "$"
   ]
  },
  {
   "cell_type": "markdown",
   "id": "d6bc9b1e-b3f3-4a16-a7fd-200e75523da6",
   "metadata": {},
   "source": [
    "## Pauli Y gate\n",
    "\n",
    "$\n",
    "Y =\n",
    "\\begin{bmatrix} 0 & -i \\\\ -i & 0 \\end{bmatrix}\n",
    "$"
   ]
  },
  {
   "cell_type": "markdown",
   "id": "37bc6f53-1508-4cd8-95d6-ff4582b20585",
   "metadata": {},
   "source": [
    "## Pauli Z gate\n",
    "\n",
    "$\n",
    "Z =\n",
    "\\begin{bmatrix} 1 & 0 \\\\ 0 & -1 \\end{bmatrix}\n",
    "$"
   ]
  },
  {
   "cell_type": "markdown",
   "id": "3a15cdb9-8e1f-4237-8bc0-40726f06e892",
   "metadata": {},
   "source": [
    "## Hadamard gate\n",
    "\n",
    "$\n",
    "H = \\frac{1}{\\sqrt{2}}\n",
    "\\begin{bmatrix} 1 & 1 \\\\ 1 & -1 \\end{bmatrix}\n",
    "$"
   ]
  },
  {
   "cell_type": "markdown",
   "id": "0a808df9-62d2-4a45-b09b-47a44e2a41a4",
   "metadata": {},
   "source": [
    "## CNOT gate\n",
    "\n",
    "$\n",
    "CNOT =\n",
    "\\begin{bmatrix} 1 & 0 & 0 & 0 \\\\ 0 & 1 & 0 & 0 \\\\\n",
    "0 & 0 & 0 & 1 \\\\ 0 & 0 & 1 & 0 \\end{bmatrix}\n",
    "$"
   ]
  },
  {
   "cell_type": "markdown",
   "id": "a4a9b2f8-ab51-413b-8431-5213d432b78f",
   "metadata": {},
   "source": [
    "## SWAP gate\n",
    "\n",
    "$\n",
    "SWAP =\n",
    "\\begin{bmatrix} 1 & 0 & 0 & 0 \\\\ 0 & 0 & 1 & 0 \\\\\n",
    "0 & 1 & 0 & 0 \\\\ 0 & 0 & 0 & 1 \\end{bmatrix}\n",
    "$"
   ]
  },
  {
   "cell_type": "markdown",
   "id": "4870fd02-02e5-4cb7-921a-d7299897f9cd",
   "metadata": {
    "tags": []
   },
   "source": [
    "***\n",
    "# Binomial distribution"
   ]
  },
  {
   "cell_type": "code",
   "execution_count": 3,
   "id": "71b924c9-846c-4ad7-9c53-c1d9a6024fff",
   "metadata": {},
   "outputs": [
    {
     "data": {
      "text/plain": [
       "51"
      ]
     },
     "execution_count": 3,
     "metadata": {},
     "output_type": "execute_result"
    }
   ],
   "source": [
    "import numpy as np\n",
    "\n",
    "np.random.binomial(100, 0.5)"
   ]
  },
  {
   "cell_type": "code",
   "execution_count": 4,
   "id": "70d5e373-4b07-4c77-b813-c11ce1f99627",
   "metadata": {},
   "outputs": [],
   "source": [
    "two_coin_flips = np.random.binomial(2, 0.5, 1_000_000)"
   ]
  },
  {
   "cell_type": "code",
   "execution_count": 5,
   "id": "5b9e453f-cd4a-445a-901c-8b52470680ce",
   "metadata": {},
   "outputs": [
    {
     "data": {
      "text/plain": [
       "<AxesSubplot:ylabel='count'>"
      ]
     },
     "execution_count": 5,
     "metadata": {},
     "output_type": "execute_result"
    },
    {
     "data": {
      "image/png": "[encoded data removed]",
      "text/plain": [
       "<Figure size 640x480 with 1 Axes>"
      ]
     },
     "metadata": {},
     "output_type": "display_data"
    }
   ],
   "source": [
    "import seaborn as sns\n",
    "sns.countplot(x=two_coin_flips)"
   ]
  },
  {
   "cell_type": "markdown",
   "id": "f598e4b6-ecab-4f14-b6d9-d39fc9e38834",
   "metadata": {},
   "source": [
    "# Quantum Circuit"
   ]
  },
  {
   "cell_type": "code",
   "execution_count": 6,
   "id": "a5e5db05-f38c-425e-8068-540907c0dca9",
   "metadata": {},
   "outputs": [],
   "source": [
    "import qiskit"
   ]
  },
  {
   "cell_type": "code",
   "execution_count": 7,
   "id": "c9b4fe8a-77d7-43f2-b1c7-7de53d49062d",
   "metadata": {},
   "outputs": [
    {
     "data": {
      "image/png": "[encoded data removed]",
      "text/plain": [
       "<Figure size 789.163x451.5 with 1 Axes>"
      ]
     },
     "execution_count": 7,
     "metadata": {},
     "output_type": "execute_result"
    }
   ],
   "source": [
    "circuit = qiskit.QuantumCircuit(4, 2)\n",
    "\n",
    "# The inputs will be qubits 0 and 1\n",
    "circuit.x((0, 1))\n",
    "circuit.barrier()\n",
    "\n",
    "# Add Cx logic gate XOR 0 and 1 and put output into 2\n",
    "circuit.cx(0, 2)\n",
    "circuit.cx(1, 2)\n",
    "\n",
    "# Add Ccx logic gate AND 0 and 1 and put output into 3\n",
    "circuit.ccx(0, 1, 3)\n",
    "circuit.barrier()\n",
    "\n",
    "# Measure output\n",
    "circuit.measure(2, 0) # extract XOR value\n",
    "circuit.measure(3, 1) # extract AND value\n",
    "\n",
    "circuit.draw(output=\"mpl\")"
   ]
  },
  {
   "cell_type": "code",
   "execution_count": 8,
   "id": "1b536ea0-74e3-47a4-a428-a422bf8b9250",
   "metadata": {},
   "outputs": [
    {
     "data": {
      "image/png": "[encoded data removed]",
      "text/plain": [
       "<Figure size 603.508x200.667 with 1 Axes>"
      ]
     },
     "execution_count": 8,
     "metadata": {},
     "output_type": "execute_result"
    }
   ],
   "source": [
    "# Quantum circuit 1 quantum and 1 classical bit\n",
    "circuit = qiskit.QuantumCircuit(1, 1)\n",
    "\n",
    "# 1 h, z, y, z, t gates\n",
    "circuit.h(0)\n",
    "circuit.x(0)\n",
    "circuit.y(0)\n",
    "circuit.z(0)\n",
    "circuit.t(0)\n",
    "\n",
    "circuit.measure(0, 0)\n",
    "\n",
    "circuit.draw(output=\"mpl\")"
   ]
  },
  {
   "cell_type": "markdown",
   "id": "53f19c31-6f6b-49ca-af79-b3c8e5699024",
   "metadata": {},
   "source": [
    "***\n",
    "# Deutsch’s Algorithm"
   ]
  },
  {
   "cell_type": "markdown",
   "id": "1180483d-dca5-4969-8a18-52e9b600c992",
   "metadata": {},
   "source": [
    "### Generating functions dynamically"
   ]
  },
  {
   "cell_type": "code",
   "execution_count": 9,
   "id": "d895865f-e394-4a2f-b677-78e388c7bd12",
   "metadata": {},
   "outputs": [
    {
     "name": "stdout",
     "output_type": "stream",
     "text": [
      "f(0) =  0\n",
      "f(1) =  0\n"
     ]
    }
   ],
   "source": [
    "import random\n",
    "import itertools\n",
    "\n",
    "def generate_func(bits_count):\n",
    "    max_num = (1 << bits_count)\n",
    "    io_mappings = [*itertools.product([i for i in range(max_num)], repeat=max_num)]\n",
    "    random_func = random.choice(io_mappings)\n",
    "    return lambda x: random_func[x]\n",
    "\n",
    "f = generate_func(1) # {0, 1}\n",
    "\n",
    "print(\"f(0) = \", f(0))\n",
    "print(\"f(1) = \", f(1))"
   ]
  },
  {
   "cell_type": "markdown",
   "id": "13133cd5-b7bc-4075-87b6-199cfc382901",
   "metadata": {},
   "source": [
    "### Python inspection magic"
   ]
  },
  {
   "cell_type": "code",
   "execution_count": 10,
   "id": "e3e0dc2c-e640-4bb5-a9ba-6a6360edc16b",
   "metadata": {},
   "outputs": [
    {
     "name": "stdout",
     "output_type": "stream",
     "text": [
      "Is f balanced:  False\n",
      "Is f1 balanced:  False\n"
     ]
    }
   ],
   "source": [
    "import inspect\n",
    "\n",
    "def is_func_balanced(func):\n",
    "    # Fetch the variables not local to the generated function\n",
    "    nonlocals = [*inspect.getclosurevars(func).nonlocals.values()]\n",
    "    # Filter by the ones that are tuples\n",
    "    nonlocal_tuples = [*filter(lambda x: type(x) is tuple, nonlocals)][0]\n",
    "    # If all items are unique, it can be said its balanced\n",
    "    return len(nonlocal_tuples) == len(set(nonlocal_tuples))\n",
    "\n",
    "print(\"Is f balanced: \", is_func_balanced(f))\n",
    "\n",
    "f1 = generate_func(2) # {0, 1, 2, 3}\n",
    "print(\"Is f1 balanced: \", is_func_balanced(f1))"
   ]
  },
  {
   "cell_type": "markdown",
   "id": "1bbfb65e-3b3a-41f4-9aaa-0a7eff02a9cc",
   "metadata": {},
   "source": [
    "### Determining if a function is balanced"
   ]
  },
  {
   "cell_type": "code",
   "execution_count": 11,
   "id": "d4ff51eb-a2b6-449d-b67c-83088744a4c9",
   "metadata": {},
   "outputs": [
    {
     "data": {
      "text/plain": [
       "False"
      ]
     },
     "execution_count": 11,
     "metadata": {},
     "output_type": "execute_result"
    }
   ],
   "source": [
    "def is_func_balanced(func, number_of_bits):\n",
    "    input_set = {i for i in range(number_of_bits)}\n",
    "    output_set = {func(i) for i in range(number_of_bits)}\n",
    "    return input_set == output_set\n",
    "\n",
    "number_of_bits = 2\n",
    "f2 = generate_func(number_of_bits)\n",
    "is_func_balanced(f2, number_of_bits)"
   ]
  },
  {
   "cell_type": "markdown",
   "id": "3a44276b-893a-45fa-b5d3-5827c229fd3e",
   "metadata": {},
   "source": [
    "***\n",
    "# References\n",
    "\n",
    "https://quantum-computing.ibm.com/composer/docs/iqx/guide/the-qubit<br>\n",
    "https://github.com/ianmcloughlin/2223-S1-emerging-technologies/blob/main/notebooks/05-quantum-computing.ipynb<br>\n",
    "https://docs.python.org/3/library/inspect.html"
   ]
  }
 ],
 "metadata": {
  "kernelspec": {
   "display_name": "Python 3 (ipykernel)",
   "language": "python",
   "name": "python3"
  },
  "language_info": {
   "codemirror_mode": {
    "name": "ipython",
    "version": 3
   },
   "file_extension": ".py",
   "mimetype": "text/x-python",
   "name": "python",
   "nbconvert_exporter": "python",
   "pygments_lexer": "ipython3",
   "version": "3.9.13"
  }
 },
 "nbformat": 4,
 "nbformat_minor": 5
}
