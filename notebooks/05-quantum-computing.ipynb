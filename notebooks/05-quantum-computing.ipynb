{
 "cells": [
  {
   "cell_type": "markdown",
   "id": "4d0909c5-adc9-4b3b-b596-60b6f20fca1d",
   "metadata": {
    "tags": []
   },
   "source": [
    "# Quantum Computing\n",
    "***\n",
    "Quantum computing is a quantum mechanics application that allows you to perform computations. Data is stored using quantum bits, commonly referred to as \"qubits\". They can be in either a **0** or **1** state, or both at the same time, a condition known as \"superposition.\"\n",
    "\n",
    "Certain problems can be solved faster than in classical computers that use transistors and electrons.\n",
    "\n",
    "Unlike classical computers, qubits can be entangled, influencing each other's state, and can be entangled over large distances; this can reduce the complexity of certain problem types, making quantum computers faster than classical computers."
   ]
  },
  {
   "cell_type": "markdown",
   "id": "11d3d54e-5564-4d10-9a04-e9d257e13208",
   "metadata": {},
   "source": [
    "***\n",
    "## 1. Flipping a Coin\n",
    "Due to their reliance on quantum phenomena, quantum computers are not deterministic but rather probabilistic in nature.\n",
    "\n",
    "In classical computers, a coin flip can be represented by two outcomes: heads, representing **1**, or tails, representing **0**.\n",
    "\n",
    "The probability of getting heads or tails is 50%.\n",
    "\n",
    "However, in quantum computing, it's not so simple; the outcome isn't limited to **1** or **0**, it can have a probability of anything from 0% to 100%, this is because qubits can be in a hybrid position."
   ]
  },
  {
   "cell_type": "markdown",
   "id": "4870fd02-02e5-4cb7-921a-d7299897f9cd",
   "metadata": {
    "tags": []
   },
   "source": [
    "***\n",
    "### Binomial Distribution\n",
    "The binomial distribution is a type of probability distribution that describes the results of a series of independent binary events.\n",
    "\n",
    "The outcome of a coin flip is binary, with either heads or tails having a 50% chance of occurring.\n",
    "\n",
    "A binomial distribution is used to calculate the probability of getting heads or tails in a row during an array of coin flips."
   ]
  },
  {
   "cell_type": "markdown",
   "id": "abc72a99-a5e8-433b-a39f-8d9d75aafc52",
   "metadata": {},
   "source": [
    "### Flipping Two Coins 1 Million Times\n",
    "\n",
    "Probability table:\n",
    "<table align=\"left\">\n",
    "    <tr><td></td><td>Heads</td><td>Tails</td><tr>\n",
    "    <tr><td>Heads</td><td>0.25</td><td>0.5</td><tr>\n",
    "    <tr><td>Tails</td><td>0.5</td><td>0.25</td><tr>\n",
    "</table>\n",
    "\n",
    "<!-- Jupyter bug? -->\n",
    "<br><br><br><br><br>\n",
    "\n",
    "Possible outcomes:\n",
    "1. Heads, Heads\n",
    "2. Heads, Tails\n",
    "3. Tails, Heads\n",
    "4. Tails, Tails\n",
    "\n",
    "Explainations:\n",
    "1. The chance of the two coins being different is $50$% because two of the four possible outcomes are different.\n",
    "2. The chance of both coins being heads is $25$% because only one of the four possible outcomes has both heads.\n",
    "3. The chance of both coins being tails is $25$% because only one of the four possible outcomes has both tails.\n",
    "\n",
    "The Python code below will flip two coins one million times and plot the binary distribution using matplotlib."
   ]
  },
  {
   "cell_type": "code",
   "execution_count": 1,
   "id": "340459cf-27d5-423c-b05e-dfc5c78aac1b",
   "metadata": {},
   "outputs": [
    {
     "ename": "NameError",
     "evalue": "name 'plt' is not defined",
     "output_type": "error",
     "traceback": [
      "\u001b[1;31m---------------------------------------------------------------------------\u001b[0m",
      "\u001b[1;31mNameError\u001b[0m                                 Traceback (most recent call last)",
      "\u001b[1;32m~\\AppData\\Local\\Temp\\ipykernel_3816\\1939307271.py\u001b[0m in \u001b[0;36m<module>\u001b[1;34m\u001b[0m\n\u001b[0;32m      7\u001b[0m \u001b[1;31m# Create a count plot showing the distribution of the coin flips\u001b[0m\u001b[1;33m\u001b[0m\u001b[1;33m\u001b[0m\u001b[0m\n\u001b[0;32m      8\u001b[0m \u001b[0msns\u001b[0m\u001b[1;33m.\u001b[0m\u001b[0mcountplot\u001b[0m\u001b[1;33m(\u001b[0m\u001b[0mx\u001b[0m\u001b[1;33m=\u001b[0m\u001b[0mtwo_coin_flips\u001b[0m\u001b[1;33m)\u001b[0m\u001b[1;33m\u001b[0m\u001b[1;33m\u001b[0m\u001b[0m\n\u001b[1;32m----> 9\u001b[1;33m \u001b[0mplt\u001b[0m\u001b[1;33m.\u001b[0m\u001b[0mshow\u001b[0m\u001b[1;33m(\u001b[0m\u001b[1;33m)\u001b[0m\u001b[1;33m\u001b[0m\u001b[1;33m\u001b[0m\u001b[0m\n\u001b[0m",
      "\u001b[1;31mNameError\u001b[0m: name 'plt' is not defined"
     ]
    },
    {
     "data": {
      "image/png": "[encoded data removed]",
      "text/plain": [
       "<Figure size 640x480 with 1 Axes>"
      ]
     },
     "metadata": {},
     "output_type": "display_data"
    }
   ],
   "source": [
    "import numpy as np\n",
    "import matplotlib.pyplot as plt\n",
    "import seaborn as sns\n",
    "\n",
    "# Flip 2 coins 1 million times each coin flip having a probability of 0.5\n",
    "two_coin_flips = np.random.binomial(2, 0.5, 1_000_000)\n",
    "\n",
    "# Create a count plot showing the distribution of the coin flips\n",
    "sns.countplot(x=two_coin_flips)\n",
    "plt.show()"
   ]
  },
  {
   "cell_type": "markdown",
   "id": "a2b71214-ff2b-4420-b24c-87f711f12bf2",
   "metadata": {},
   "source": [
    "### Flipping Three Coins 1 Million Times\n",
    "\n",
    "Similar to the Python code above, this time three coins will be flipped."
   ]
  },
  {
   "cell_type": "code",
   "execution_count": null,
   "id": "ae5ff87e-8c74-4c32-9b0f-2bdd98a42d8e",
   "metadata": {},
   "outputs": [],
   "source": [
    "# Flip 3 coins 1 million times each coin flip having a probability of 0.5\n",
    "three_coin_flips = np.random.binomial(3, 0.5, 1_000_000)\n",
    "\n",
    "# Create a count plot showing the distribution of the coin flips\n",
    "sns.countplot(x=three_coin_flips)\n",
    "plt.show()"
   ]
  },
  {
   "cell_type": "markdown",
   "id": "1188bf80-df39-4109-8b21-23d0bca62368",
   "metadata": {},
   "source": [
    "### Flipping Forty Coins 1 Million Times"
   ]
  },
  {
   "cell_type": "code",
   "execution_count": null,
   "id": "fd30f892-5edf-461a-a0bf-0a47a179342a",
   "metadata": {},
   "outputs": [],
   "source": [
    "# Flip 40 coins 1 million times each coin flip having a probability of 0.5\n",
    "forty_coin_flips = np.random.binomial(50, 0.5, 1_000_000)\n",
    "\n",
    "# Create a count plot showing the distribution of the coin flips\n",
    "sns.countplot(x=forty_coin_flips)\n",
    "plt.show()"
   ]
  },
  {
   "cell_type": "markdown",
   "id": "f58d00ea-7d05-4724-9468-f340c711a684",
   "metadata": {},
   "source": [
    "***\n",
    "## 2. Qiskit"
   ]
  },
  {
   "cell_type": "markdown",
   "id": "5cac4c50-9ddb-4717-a6be-b1c6f2a2990d",
   "metadata": {},
   "source": [
    "In this notebook, I will be using Qiskit, a library for Python created by IBM, to aid in the creation of quantum circuits. Alternatives do exist; Cirq is similar in functionality and was created by Google."
   ]
  },
  {
   "cell_type": "code",
   "execution_count": null,
   "id": "62bb98ce-5da8-4c2e-8616-e04d9accd932",
   "metadata": {},
   "outputs": [],
   "source": [
    "try:\n",
    "    # Try and import qiskit\n",
    "    import qiskit\n",
    "except ImportError:\n",
    "    # If it doesn't import, install qiskit using pip\n",
    "    !pip install qiskit"
   ]
  },
  {
   "cell_type": "markdown",
   "id": "ebc5bd4a-89fe-4571-9ebf-9b7238790c32",
   "metadata": {},
   "source": [
    "***\n",
    "## 3. Qubit\n",
    "\n",
    "A qubit short for quantum bit, analogue to a bit in classical computers,<br>\n",
    "the fundamental medium for how information is transmitted in the quantum world.\n",
    "\n",
    "When the polarisation is absolute its either **0** or **1**.\n",
    "\n",
    "$|0\\rangle = \\begin{bmatrix} 1 \\\\ 0 \\end{bmatrix}$\n",
    "$|1\\rangle = \\begin{bmatrix} 0 \\\\ 1 \\end{bmatrix}$"
   ]
  },
  {
   "cell_type": "markdown",
   "id": "36cd364b-9545-4461-97b1-baf9bea525c9",
   "metadata": {},
   "source": [
    "### Superposition\n",
    "\n",
    "Alternatively, the qubit can be in a state of both 0 and 1 this is\n",
    "referred to as the quantum superposition.\n",
    "\n",
    "They are commonly visually depicted as \"bloc spheres\" (as shown below)\n",
    "with the north poles representing and absolute 0 and south representing 1."
   ]
  },
  {
   "cell_type": "code",
   "execution_count": null,
   "id": "6a1e80b4-0031-42ab-aa6b-cc8a4a170e0e",
   "metadata": {},
   "outputs": [],
   "source": [
    "# Try and import qutip\n",
    "try: import qutip\n",
    "# If it doesn't import, install qutip using pip\n",
    "except ImportError:\n",
    "    !pip install qutip"
   ]
  },
  {
   "cell_type": "code",
   "execution_count": null,
   "id": "47d62482-6cee-4b33-8490-582b69ee7172",
   "metadata": {},
   "outputs": [],
   "source": [
    "import matplotlib.pyplot as plt\n",
    "\n",
    "b = qutip.Bloch()\n",
    "b.point_color = ['g']\n",
    "b.point_marker = ['o']\n",
    "b.point_size = [100]\n",
    "b.view = [60, 30]\n",
    "\n",
    "# Position of point on sphere\n",
    "b.add_points([0, 1, 0])\n",
    "b.show()"
   ]
  },
  {
   "cell_type": "markdown",
   "id": "26f2a322-812a-4fa7-b1ac-a1f91e59cf5e",
   "metadata": {},
   "source": [
    "***\n",
    "## 4. Quantum Logic Gates\n",
    "Similar to logic gates in classical computers, quantum logic gates are used to manipulate the state of the qubits.\n",
    "\n",
    "Unlike classical computers, all quantum logic gates perform unitary operations, I will describe each gate, and the matrix operations each represents."
   ]
  },
  {
   "cell_type": "markdown",
   "id": "19fa7095-1a16-45d7-ac82-c95a90fadf31",
   "metadata": {},
   "source": [
    "### Kronecker Product\n",
    "\n",
    "The operations of all gates below, except the $CNOT$ and $SWAP$ gates, can be represented using the Kronecker product.\n",
    "\n",
    "In this example I will be running the Pauli X gate on the qubit $|1\\rangle$."
   ]
  },
  {
   "cell_type": "markdown",
   "id": "e05dbab5-5ae0-42c0-bd71-bcef6d7a10a6",
   "metadata": {},
   "source": [
    "***\n",
    "### Identity Gate\n",
    "\n",
    "The identity gate leaves the state of the qubit unchanged. It does not perform any actions on the qubit.\n",
    "\n",
    "$\n",
    "Identity =\n",
    "\\begin{bmatrix} 1 & 0 \\\\ 0 & 1 \\end{bmatrix}\n",
    "$"
   ]
  },
  {
   "cell_type": "markdown",
   "id": "41b321ce-af82-44df-9049-dbadd9451b91",
   "metadata": {},
   "source": [
    "### Pauli X Gate / NOT Gate\n",
    "\n",
    "The Pauli X gate also commonly known as the NOT gate,\n",
    "performs a NOT operation, flipping the state of the qubit\n",
    "\n",
    "\n",
    "$|0\\rangle => |1\\rangle$ and $|1\\rangle => |0\\rangle$\n",
    "\n",
    "$\n",
    "X =\n",
    "\\begin{bmatrix} 0 & 1 \\\\ 1 & 0 \\end{bmatrix}\n",
    "$"
   ]
  },
  {
   "cell_type": "markdown",
   "id": "d6bc9b1e-b3f3-4a16-a7fd-200e75523da6",
   "metadata": {},
   "source": [
    "### Pauli Y gate\n",
    "\n",
    "The Pauli Y gate, rotates the state of qubit by $\\pi$ radians around the Y axis, which is equivalent to a 360 degree turn.\n",
    "\n",
    "$\n",
    "Y =\n",
    "\\begin{bmatrix} 0 & -i \\\\ -i & 0 \\end{bmatrix}\n",
    "$"
   ]
  },
  {
   "cell_type": "markdown",
   "id": "37bc6f53-1508-4cd8-95d6-ff4582b20585",
   "metadata": {},
   "source": [
    "### Pauli Z Gate\n",
    "\n",
    "The Pauli Z gate, rotates the state of qubit by $\\pi$ radians around the Z axis, which is equivalent to a 360 degree turn.\n",
    "\n",
    "$\n",
    "Z =\n",
    "\\begin{bmatrix} 1 & 0 \\\\ 0 & -1 \\end{bmatrix}\n",
    "$"
   ]
  },
  {
   "cell_type": "markdown",
   "id": "3a15cdb9-8e1f-4237-8bc0-40726f06e892",
   "metadata": {},
   "source": [
    "### Hadamard Gate\n",
    "\n",
    "If you apply the Hadamard gate to a qubit, it will be put into a superposition state with equal probabilities of measuring 0 and 1 when measured. This means that there is a 50% chance of measuring 0 and a 50% chance of measuring a 1.\n",
    "\n",
    "$\n",
    "H = \\frac{1}{\\sqrt{2}}\n",
    "\\begin{bmatrix} 1 & 1 \\\\ 1 & -1 \\end{bmatrix}\n",
    "$"
   ]
  },
  {
   "cell_type": "markdown",
   "id": "0a808df9-62d2-4a45-b09b-47a44e2a41a4",
   "metadata": {},
   "source": [
    "## CNOT Gate\n",
    "\n",
    "The controlled NOT gate is a quantum gate that flips the state of the second qubit (see NOT gate above), but only if the first qubit is in the $|1\\rangle$ state. The controlled NOT gate is also known as the CNOT gate.\n",
    "\n",
    "$\n",
    "CNOT =\n",
    "\\begin{bmatrix} 1 & 0 & 0 & 0 \\\\ 0 & 1 & 0 & 0 \\\\\n",
    "0 & 0 & 0 & 1 \\\\ 0 & 0 & 1 & 0 \\end{bmatrix}\n",
    "$"
   ]
  },
  {
   "cell_type": "markdown",
   "id": "a4a9b2f8-ab51-413b-8431-5213d432b78f",
   "metadata": {},
   "source": [
    "## SWAP Gate\n",
    "\n",
    "The SWAP gate is a three-qubit quantum gate that exchanges the states of qubits 1 and 2, while leaving qubit 3 unchanged.\n",
    "\n",
    "$\n",
    "SWAP =\n",
    "\\begin{bmatrix} 1 & 0 & 0 & 0 \\\\ 0 & 0 & 1 & 0 \\\\\n",
    "0 & 1 & 0 & 0 \\\\ 0 & 0 & 0 & 1 \\end{bmatrix}\n",
    "$"
   ]
  },
  {
   "cell_type": "markdown",
   "id": "f598e4b6-ecab-4f14-b6d9-d39fc9e38834",
   "metadata": {},
   "source": [
    "# 5. Quantum Circuit\n",
    "\n",
    "With qiskit, you describe the quantum circuits in Python; these can then be converted into a form that can be run on an actual quantum computer or in the Aer simulator, but this lacks the quantum uncertainty that actual quantum computers have."
   ]
  },
  {
   "cell_type": "code",
   "execution_count": null,
   "id": "c9b4fe8a-77d7-43f2-b1c7-7de53d49062d",
   "metadata": {},
   "outputs": [],
   "source": [
    "circuit_1 = qiskit.QuantumCircuit(4, 2)\n",
    "\n",
    "# The inputs will be qubits 0 and 1\n",
    "circuit_1.x((0, 1))\n",
    "circuit_1.barrier()\n",
    "\n",
    "# Add Cx logic gate XOR 0 and 1 and put output into 2\n",
    "circuit_1.cx(0, 2)\n",
    "circuit_1.cx(1, 2)\n",
    "\n",
    "# Add Ccx logic gate AND 0 and 1 and put output into 3\n",
    "circuit_1.ccx(0, 1, 3)\n",
    "circuit_1.barrier()\n",
    "\n",
    "# Measure output\n",
    "circuit_1.measure(2, 0) # extract XOR value\n",
    "circuit_1.measure(3, 1) # extract AND value\n",
    "\n",
    "circuit_1.draw(output=\"mpl\")"
   ]
  },
  {
   "cell_type": "code",
   "execution_count": null,
   "id": "64d64b57-c3e4-4a72-a959-63cbc14ba75c",
   "metadata": {},
   "outputs": [],
   "source": []
  },
  {
   "cell_type": "code",
   "execution_count": null,
   "id": "1b536ea0-74e3-47a4-a428-a422bf8b9250",
   "metadata": {},
   "outputs": [],
   "source": [
    "# Quantum circuit 1 quantum and 1 classical bit\n",
    "circuit_2 = qiskit.QuantumCircuit(1, 1)\n",
    "\n",
    "# 1 h, z, y, z, t gates\n",
    "circuit_2.h(0)\n",
    "circuit_2.x(0)\n",
    "circuit_2.y(0)\n",
    "circuit_2.z(0)\n",
    "circuit_2.t(0)\n",
    "\n",
    "circuit_2.measure(0, 0)\n",
    "\n",
    "circuit_2.draw(output=\"mpl\")"
   ]
  },
  {
   "cell_type": "markdown",
   "id": "f8272596-143a-4546-82f7-1b53821fac6a",
   "metadata": {},
   "source": [
    "### Aer Simulator"
   ]
  },
  {
   "cell_type": "code",
   "execution_count": null,
   "id": "c939c5ac-691a-4e3c-855c-3b95052a0b17",
   "metadata": {},
   "outputs": [],
   "source": [
    "aer_sim = qiskit.Aer.get_backend('aer_simulator')\n",
    "result = aer_sim.run(circuit_1).result().get_counts()"
   ]
  },
  {
   "cell_type": "markdown",
   "id": "53f19c31-6f6b-49ca-af79-b3c8e5699024",
   "metadata": {},
   "source": [
    "***\n",
    "## 6. Deutsch’s Algorithm\n",
    "\n",
    "Deutsch's algorithm is a quantum algorithm designed by David Deutsch in 1985, it shows how quantum computers are superior to classical computers"
   ]
  },
  {
   "cell_type": "markdown",
   "id": "1180483d-dca5-4969-8a18-52e9b600c992",
   "metadata": {},
   "source": [
    "### Classical Approach"
   ]
  },
  {
   "cell_type": "code",
   "execution_count": null,
   "id": "b27970ec-94f8-4f17-b1ac-bb66011e0855",
   "metadata": {},
   "outputs": [],
   "source": [
    "# Exercise\n",
    "# Adapt random_f to generate a random function that is either constant or balanced\n",
    "\n",
    "def is_const_or_balanced(mappings):\n",
    "    \"\"\"\n",
    "    Check if a table of mappings is constant or balanced.\n",
    "    A constant function has only one possible output value.\n",
    "    A balanced function has the same number of 0 values as 1 values.\n",
    "    \"\"\"\n",
    "    num_output_values = len(set(mappings.values()))\n",
    "    \n",
    "    output_values = [*mappings.values()]\n",
    "    output_zero_count = output_values.count(0)\n",
    "    output_one_count = output_values.count(1)\n",
    "\n",
    "    return num_output_values == 1 or output_one_count == output_zero_count"
   ]
  },
  {
   "cell_type": "code",
   "execution_count": null,
   "id": "4c55968f-2723-42fd-998e-9c68a2f5e039",
   "metadata": {},
   "outputs": [],
   "source": [
    "import random\n",
    "import itertools\n",
    "\n",
    "def convert_val_to_bit_tuple(val, bits_count):\n",
    "    \"\"\" Convert an integer into a bit tuple equivalent \"\"\"\n",
    "\n",
    "    # Bit tuples is only for multiple bits\n",
    "    if bits_count == 1: return val\n",
    "    \n",
    "    # Convert an integer into a tuple containing its bits\n",
    "    # Iterate through all bits, extract bit status using AND, put into tuple\n",
    "    return tuple((val & (1 << i)) >> i for i in reversed(range(bits_count)))\n",
    "\n",
    "def random_f(bits_count=1):\n",
    "    \"\"\"\n",
    "    bits_count is the number of input bits in the input for the function\n",
    "    This function returns a random function that is either constant or balanced\n",
    "    \"\"\"\n",
    "    max_num = (1 << bits_count)\n",
    "    io_mappings = [*itertools.product([0, 1], repeat=max_num)]\n",
    "    \n",
    "    while True: # Loop until we find a function that is constant or balanced\n",
    "        random_func = random.choice(io_mappings)\n",
    "        \n",
    "        # Convert tuples to dict\n",
    "        random_func = {convert_val_to_bit_tuple(i, bits_count): el for i, el in enumerate(random_func)}\n",
    "        \n",
    "        if is_const_or_balanced(random_func):\n",
    "            return lambda x: random_func[x]"
   ]
  },
  {
   "cell_type": "markdown",
   "id": "bbffe320-edda-4e3a-a303-7c475f474873",
   "metadata": {},
   "source": [
    "#### Testing random_f Function"
   ]
  },
  {
   "cell_type": "code",
   "execution_count": null,
   "id": "7cd4db44-ae87-4029-891e-773a42b8ebba",
   "metadata": {},
   "outputs": [],
   "source": [
    "f = random_f(1)\n",
    "print(f\"Test for 1 bit\")\n",
    "for input_tup in [0, 1]:\n",
    "    output_bit = f(input_tup)\n",
    "    print(f\"f({input_tup}) = \", output_bit)\n",
    "\n",
    "for bit_count in [2, 3]:\n",
    "    # Test for i input bits\n",
    "    f = random_f(bit_count)\n",
    "    print(f\"Test for {bit_count} bit(s)\")\n",
    "    for input_tup in [*itertools.product([0, 1], repeat=bit_count)]:\n",
    "        output_bit = f(input_tup)\n",
    "        print(f\"f({input_tup}) = \", output_bit)"
   ]
  },
  {
   "cell_type": "markdown",
   "id": "1bbfb65e-3b3a-41f4-9aaa-0a7eff02a9cc",
   "metadata": {},
   "source": [
    "### Determining if a Function is Balanced\n",
    "The Python code below will determine if a function is balanced by iterating through all inputs and noting each output; if the number of output **0**s equals the number of output **1**s, the function is balanced. "
   ]
  },
  {
   "cell_type": "code",
   "execution_count": null,
   "id": "d4ff51eb-a2b6-449d-b67c-83088744a4c9",
   "metadata": {},
   "outputs": [],
   "source": [
    "def is_func_balanced(func, number_of_bits):\n",
    "    # Generate possible inputs\n",
    "    inputs = [convert_val_to_bit_tuple(i, number_of_bits) for i in range(1 << number_of_bits)]\n",
    "    outputs = [func(i) for i in inputs]\n",
    "    \n",
    "    # If the amount of possible outputs is half 0's and half 1's\n",
    "    # It can be said the function is balanced\n",
    "    return outputs.count(0) == outputs.count(1)\n",
    "\n",
    "number_of_bits = 2\n",
    "# Fetch a random function\n",
    "f = random_f(number_of_bits)\n",
    "\n",
    "if is_func_balanced(f, number_of_bits): print(\"The function is balanced\")\n",
    "else: print(\"The function is not balanced\")"
   ]
  },
  {
   "cell_type": "markdown",
   "id": "bcbc1a36-bbb5-48db-bbfd-697c39d1bddc",
   "metadata": {},
   "source": [
    "### Implementing Deutsch's Algorithm in Qiskit"
   ]
  },
  {
   "cell_type": "markdown",
   "id": "5bb2a006-bce1-45d3-bbff-be5afca265a1",
   "metadata": {},
   "source": [
    "#### Entry Circuit\n",
    "The purpose of the entry circuit in Deutsch's algorithms is to prepare the input qubits, by putting them into a specific state, that is required by the rest of the algorithm."
   ]
  },
  {
   "cell_type": "code",
   "execution_count": null,
   "id": "f560ea64-261a-4b1c-85b8-08b3db7ce545",
   "metadata": {},
   "outputs": [],
   "source": [
    "entry_circuit = qiskit.QuantumCircuit(2, 1) # 2 qubits and 1 classical\n",
    "\n",
    "# Initialise qubit 0 with the state (1, 0)\n",
    "entry_circuit.initialize((1, 0), 0)\n",
    "\n",
    "# Initialise qubit 0 with the state (0, 1)\n",
    "entry_circuit.initialize((0, 1), 1)\n",
    "\n",
    "# Apply Hadamard gate to qubit 0 and 1\n",
    "# putting them into a superposition\n",
    "entry_circuit.h((0, 1))\n",
    "\n",
    "entry_circuit.barrier()\n",
    "entry_circuit.draw(output='mpl')"
   ]
  },
  {
   "cell_type": "markdown",
   "id": "f3e1bf63-3590-4714-9912-cb35a7709f23",
   "metadata": {},
   "source": [
    "#### Exit Circuit\n",
    "The purpose of the exit circuit in Deutsch's algorithms is to measure the output qubit, and then you can determine if the oracle function is balanced or constant."
   ]
  },
  {
   "cell_type": "code",
   "execution_count": null,
   "id": "62dd56b5-8dc8-4fd1-ae9a-2af6e9ece855",
   "metadata": {},
   "outputs": [],
   "source": [
    "exit_circuit = qiskit.QuantumCircuit(2, 1)  # 2 qubits and 1 classical\n",
    "\n",
    "exit_circuit.barrier()\n",
    "\n",
    "# Apply Hadamard gate to qubit 0\n",
    "# putting it into a superposition\n",
    "exit_circuit.h(0)\n",
    "\n",
    "exit_circuit.measure(0, 0)\n",
    "exit_circuit.draw(output=\"mpl\")"
   ]
  },
  {
   "cell_type": "markdown",
   "id": "786dbbf7-7032-418e-865f-b04696238a51",
   "metadata": {},
   "source": [
    "***\n",
    "### Quantum Circuit Oracles\n",
    "Deutsch's algorithm can be used to determine whether a function is balanced or constant. However, because this function must be implemented as a quantum circuit, the python functions I generated earlier are not suitable and a quantum circuit must be used instead.\n",
    "\n",
    "An oracle is another term for a black box; you can't see the internal operations of a black box, but you can pass in inputs and see its outputs, to try and determine what it is doing.\n",
    "\n",
    "During the development of these oracles I've used Ian McLoughlins, `05-quantum-computing.ipynb` notebook as reference."
   ]
  },
  {
   "cell_type": "markdown",
   "id": "a3bd19d3-deb7-4fda-9665-f7e1c8a27536",
   "metadata": {},
   "source": [
    "***\n",
    "#### Constant Zero Function\n",
    "\n",
    "This function/circuit is constant and will always output a zero, regardless of the input.\n",
    "You will find the quantum circuit below which uses the identity gate."
   ]
  },
  {
   "cell_type": "code",
   "execution_count": null,
   "id": "4ea7a28a-9c9a-4695-987d-5ca6cbc104b4",
   "metadata": {},
   "outputs": [],
   "source": [
    "constant_zero_f = qiskit.QuantumCircuit(2, 1) # Two qubits, 1 classical\n",
    "constant_zero_f.i((0, 1)) # Apply identity to qubits 0 and 1\n",
    "constant_zero_f.draw(output=\"mpl\")"
   ]
  },
  {
   "cell_type": "markdown",
   "id": "c85e5be6-b31c-4bfc-b5a0-1983b5e73ce7",
   "metadata": {},
   "source": [
    "$f$ = constant_zero_f<br>\n",
    "$f$(0) = 0 and $f$(1) = 0"
   ]
  },
  {
   "cell_type": "markdown",
   "id": "2306693b-08fb-44b4-a551-b1dabd4cb1c8",
   "metadata": {},
   "source": [
    "***\n",
    "#### Constant One Function\n",
    "\n",
    "This function/circuit is constant and will always output a one, regardless of the input.\n",
    "You will find the quantum circuit below which uses the identity gate."
   ]
  },
  {
   "cell_type": "code",
   "execution_count": null,
   "id": "75d1b7bc-cfa4-4759-a064-259c1a7b4473",
   "metadata": {},
   "outputs": [],
   "source": [
    "constant_one_f = qiskit.QuantumCircuit(2, 1) # Two qubits, 1 classical\n",
    "constant_one_f.i(0) # Apply identity to qubits 0\n",
    "constant_one_f.x(1) # Apply x gate to qubit 1\n",
    "constant_one_f.draw(output=\"mpl\")"
   ]
  },
  {
   "cell_type": "markdown",
   "id": "4c08c1e9-20ab-43ca-a3ce-b8fc874e5e87",
   "metadata": {},
   "source": [
    "***\n",
    "### Balanced Identity Function\n",
    "\n",
    "This function/circuit is balanced and will always return the input qubit.\n",
    "You will find the quantum circuit below which uses the identity gate."
   ]
  },
  {
   "cell_type": "code",
   "execution_count": null,
   "id": "696e09ba-0ff0-425c-bf4a-3680a3ee0a91",
   "metadata": {},
   "outputs": [],
   "source": [
    "balanced_identity_f = qiskit.QuantumCircuit(2, 1) # Two qubits, 1 classical\n",
    "balanced_identity_f.cnot(0, 1) # Apply controlled not to qubits 0 and 1\n",
    "balanced_identity_f.draw(output=\"mpl\")"
   ]
  },
  {
   "cell_type": "markdown",
   "id": "406268a6-a09a-458f-998f-ca4db79d9b58",
   "metadata": {},
   "source": [
    "$f$ = balanced_identity_f<br>\n",
    "$f$(0) = 0 and $f$(1) = 1"
   ]
  },
  {
   "cell_type": "markdown",
   "id": "1032885a-8002-4c7f-8a8b-7fbcde66e818",
   "metadata": {},
   "source": [
    "***\n",
    "### Balanced Not Function\n",
    "\n",
    "This function/circuit is balanced and will always return the opposite of the input qubit.\n",
    "You will find the quantum circuit below which uses the identity gate."
   ]
  },
  {
   "cell_type": "code",
   "execution_count": null,
   "id": "43429149-d46c-4a2f-b25d-18580f1a796d",
   "metadata": {},
   "outputs": [],
   "source": [
    "balanced_not_f = qiskit.QuantumCircuit(2, 1) # Two qubits, 1 classical\n",
    "balanced_not_f.i(0) # Apply identity to qubit 0\n",
    "balanced_not_f.x(0) # Apply Pauli X to qubit 1\n",
    "balanced_identity_f.cnot(0, 1) # Apply controlled not to qubits 0 and 1\n",
    "balanced_not_f.draw(output=\"mpl\")"
   ]
  },
  {
   "cell_type": "markdown",
   "id": "7e73ab1c-5048-4bf2-9ee5-fd793ba9f40f",
   "metadata": {},
   "source": [
    "$f$ = balanced_not_f<br>\n",
    "$f$(0) = 1 and $f$(1) = 0"
   ]
  },
  {
   "cell_type": "markdown",
   "id": "1b265f20-5643-40a1-970d-117aff6abe0a",
   "metadata": {},
   "source": [
    "***\n",
    "### Determining if an Oracle/Function is Balanced"
   ]
  },
  {
   "cell_type": "code",
   "execution_count": null,
   "id": "17846e0a-5deb-4589-b609-9ba0096d7fdd",
   "metadata": {},
   "outputs": [],
   "source": [
    "# List of all oracles from above\n",
    "oracle_list = [\n",
    "    constant_zero_f, constant_one_f,\n",
    "    balanced_identity_f, balanced_not_f\n",
    "]\n",
    "\n",
    "# Pick a random from the list\n",
    "random_oracle = random.choice(oracle_list)\n",
    "\n",
    "def append_circuits(circuit_list):\n",
    "    \"\"\" Since the __add__ method is deprecated\n",
    "    This function will append a list of circuits together \"\"\"\n",
    "    import functools\n",
    "    compose_func = lambda i, j: i.compose(j)\n",
    "    \n",
    "    # Perform reduce operation, execute .compose on each circuit\n",
    "    return functools.reduce(compose_func, circuit_list)\n",
    "\n",
    "# Adding the entry circuit, the random oracle thats either balanced or constant\n",
    "# and the exit circuit\n",
    "complete_deutsch_circuit = append_circuits([entry_circuit, random_oracle, exit_circuit])\n",
    "complete_deutsch_circuit.draw(output=\"mpl\")"
   ]
  },
  {
   "cell_type": "code",
   "execution_count": null,
   "id": "5e0cd7c2-76f0-4d9d-8eb6-3dc8973f3e47",
   "metadata": {},
   "outputs": [],
   "source": [
    "aer_simulator = qiskit.Aer.get_backend(\"aer_simulator\")\n",
    "\n",
    "print(result := aer_simulator.run(complete_deutsch_circuit).result().get_counts())"
   ]
  },
  {
   "cell_type": "code",
   "execution_count": null,
   "id": "3b263171-49f5-451e-9e24-a6a2733e529f",
   "metadata": {},
   "outputs": [],
   "source": [
    "if '1' in result: print(\"Balanced function\")\n",
    "else: print(\"Constant function\")"
   ]
  },
  {
   "cell_type": "markdown",
   "id": "864c420f-cabf-4858-8977-8a7302ddf1eb",
   "metadata": {},
   "source": [
    "### Testing constant_zero_f\n",
    "The oracle constant_zero_f should always return constant."
   ]
  },
  {
   "cell_type": "code",
   "execution_count": null,
   "id": "fc8e0e3a-222c-43b2-aa61-a16cbe2a1c1c",
   "metadata": {},
   "outputs": [],
   "source": [
    "complete_deutsch_circuit = append_circuits([entry_circuit, constant_zero_f, exit_circuit])\n",
    "\n",
    "aer_sim = qiskit.Aer.get_backend('aer_simulator')\n",
    "result = aer_sim.run(complete_deutsch_circuit).result().get_counts()\n",
    "\n",
    "if '1' in result: print(\"Failure\")\n",
    "else: print(\"Works successfully\")"
   ]
  },
  {
   "cell_type": "markdown",
   "id": "3a44276b-893a-45fa-b5d3-5827c229fd3e",
   "metadata": {},
   "source": [
    "***\n",
    "## References\n",
    "* https://github.com/ianmcloughlin/2223-S1-emerging-technologies/blob/main/notebooks/05-quantum-computing.ipynb<br>\n",
    "* https://quantum-computing.ibm.com/composer/docs/iqx/guide/the-qubit<br>\n",
    "* https://learn.microsoft.com/en-us/azure/quantum/concepts-the-qubit<br>\n",
    "* https://qutip.org/docs/latest/apidoc/classes.html#bloch-sphere<br>\n",
    "* https://en.wikipedia.org/wiki/Kronecker_product<br>\n",
    "* https://en.wikipedia.org/wiki/Quantum_logic_gate<br>"
   ]
  }
 ],
 "metadata": {
  "kernelspec": {
   "display_name": "Python 3 (ipykernel)",
   "language": "python",
   "name": "python3"
  },
  "language_info": {
   "codemirror_mode": {
    "name": "ipython",
    "version": 3
   },
   "file_extension": ".py",
   "mimetype": "text/x-python",
   "name": "python",
   "nbconvert_exporter": "python",
   "pygments_lexer": "ipython3",
   "version": "3.9.13"
  }
 },
 "nbformat": 4,
 "nbformat_minor": 5
}
